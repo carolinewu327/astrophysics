{
 "cells": [
  {
   "metadata": {},
   "cell_type": "markdown",
   "source": "### MASKED + WEIGHTED + VARIANCE + RANDOM + SYMMETRIZATION $\\kappa$ MAP",
   "id": "c34f28f2032c3ecd"
  },
  {
   "cell_type": "code",
   "id": "2eb5e21b-7714-48ca-8895-c159e39c8a46",
   "metadata": {
    "ExecuteTime": {
     "end_time": "2025-10-19T01:02:05.745728Z",
     "start_time": "2025-10-19T01:02:05.708652Z"
    }
   },
   "source": [
    "import numpy as np\n",
    "import matplotlib.pyplot as plt\n",
    "from astropy.io import fits\n",
    "from astropy.cosmology import Planck18 as cosmo\n",
    "from astropy.coordinates import SkyCoord\n",
    "import astropy.units as u\n",
    "import healpy as hp\n",
    "from tqdm.notebook import tqdm\n",
    "from scipy.ndimage import gaussian_filter\n",
    "from helper import preprocess_catalog_galactic\n",
    "from helper import load_catalog\n",
    "from helper import symmetrize_map\n",
    "from helper import radial_profile\n",
    "import pandas as pd"
   ],
   "outputs": [],
   "execution_count": 41
  },
  {
   "cell_type": "code",
   "id": "690b1607-e520-4437-b0e2-890ff21a698f",
   "metadata": {
    "ExecuteTime": {
     "end_time": "2025-10-19T01:02:05.757699Z",
     "start_time": "2025-10-19T01:02:05.751217Z"
    }
   },
   "source": [
    "# --- Settings ---\n",
    "dataset = \"BOSS\"\n",
    "if dataset == \"eBOSS\":\n",
    "    catalog, region = \"LRG\", \"NGC\"\n",
    "    real_file = f\"data/eBOSS/eBOSS_{catalog}_clustering_data-{region}-vDR16.fits\"\n",
    "    rand_file = f\"data/eBOSS/eBOSS_LRG_clustering_random-{region}-vDR16.fits\"\n",
    "elif dataset == \"BOSS\":\n",
    "    catalog, region = \"CMASS\", \"North\"\n",
    "    real_file = f\"data/BOSS/galaxy_DR12v5_CMASS_{region}.fits\"\n",
    "    rand_file = f\"data/BOSS/random0_DR12v5_CMASS_{region}.fits\"\n",
    "else:\n",
    "    raise ValueError(\"dataset must be eBOSS or BOSS\")\n",
    "\n",
    "alm_file = \"data/COM_Lensing_4096_R3.00/MV/dat_klm.fits\"\n",
    "mask_file = \"data/COM_Lensing_4096_R3.00/mask.fits\""
   ],
   "outputs": [],
   "execution_count": 42
  },
  {
   "cell_type": "code",
   "id": "374ca113-110a-4113-b69d-c94ad49f5e6a",
   "metadata": {
    "ExecuteTime": {
     "end_time": "2025-10-19T01:02:05.777968Z",
     "start_time": "2025-10-19T01:02:05.761163Z"
    }
   },
   "source": [
    "nside = 2048\n",
    "fwhm_rad = np.radians(8 / 60)\n",
    "box_size_hmpc = 100.0\n",
    "h = cosmo.h\n",
    "grid_size = 100\n",
    "cell_size_hmpc = box_size_hmpc / grid_size\n",
    "half_box_hmpc = box_size_hmpc / 2\n",
    "extent = [-half_box_hmpc, half_box_hmpc, -half_box_hmpc, half_box_hmpc]\n",
    "\n",
    "offsets = np.linspace(-half_box_hmpc + cell_size_hmpc/2,\n",
    "                      half_box_hmpc - cell_size_hmpc/2, grid_size)\n",
    "off_x, off_y = np.meshgrid(offsets, offsets)\n",
    "off_x, off_y = off_x.ravel(), off_y.ravel()"
   ],
   "outputs": [],
   "execution_count": 43
  },
  {
   "cell_type": "code",
   "id": "2812f1d7-5570-4ff2-bd9e-7d4e0302b9bf",
   "metadata": {
    "ExecuteTime": {
     "end_time": "2025-10-19T01:02:08.161411Z",
     "start_time": "2025-10-19T01:02:05.781066Z"
    }
   },
   "source": [
    "# --- Load κ map and mask ---\n",
    "alm_data = fits.open(alm_file)[1].data\n",
    "alm = alm_data['REAL'] + 1j * alm_data['IMAG']\n",
    "lmax = hp.Alm.getlmax(len(alm))\n",
    "kmap = hp.alm2map(hp.smoothalm(alm, fwhm=fwhm_rad), nside=nside, lmax=lmax)\n",
    "mask = hp.read_map(mask_file)"
   ],
   "outputs": [],
   "execution_count": 44
  },
  {
   "metadata": {
    "ExecuteTime": {
     "end_time": "2025-10-19T01:02:16.452816Z",
     "start_time": "2025-10-19T01:02:08.179761Z"
    }
   },
   "cell_type": "code",
   "source": [
    "from astropy.io import fits\n",
    "from astropy.cosmology import Planck18 as cosmo\n",
    "from astropy.coordinates import SkyCoord\n",
    "import astropy.units as u\n",
    "import numpy as np\n",
    "import healpy as hp\n",
    "import matplotlib.pyplot as plt\n",
    "from tqdm.notebook import tqdm\n",
    "\n",
    "# --- Load eBOSS LRG catalog ---\n",
    "with fits.open(real_file) as hd:\n",
    "    data = hd[1].data\n",
    "\n",
    "# --- Filter out invalid galaxies ---\n",
    "data = data[data['Z'] > 0]\n",
    "data = data[np.isfinite(data['RA']) & np.isfinite(data['DEC'])]\n",
    "\n",
    "# --- Load and smooth Planck κ alm ---\n",
    "alms = fits.open(\"data/COM_Lensing_4096_R3.00/MV/dat_klm.fits\")[1].data\n",
    "alm = alms['REAL'] + 1j * alms['IMAG']\n",
    "lmax = hp.Alm.getlmax(len(alm))\n",
    "nside = 2048\n",
    "\n",
    "# --- Redshift histogram ---\n",
    "zs = [gal['Z'] for gal in data]\n",
    "plt.hist(zs, bins=50, edgecolor='black', alpha=0.7)\n",
    "plt.xlabel('Redshift')\n",
    "plt.ylabel('Frequency')\n",
    "plt.title(f\"{len(zs):,} {catalog} in {region}\")\n",
    "plt.show()"
   ],
   "id": "8cff688196b72b9c",
   "outputs": [
    {
     "data": {
      "text/plain": [
       "<Figure size 640x480 with 1 Axes>"
      ],
      "image/png": "[encoded data removed]"
     },
     "metadata": {},
     "output_type": "display_data"
    }
   ],
   "execution_count": 45
  },
  {
   "metadata": {
    "ExecuteTime": {
     "end_time": "2025-10-19T01:02:16.468085Z",
     "start_time": "2025-10-19T01:02:16.464438Z"
    }
   },
   "cell_type": "code",
   "source": [
    "def assign_jackknife_regions_healpix(catalog, rand_cat, nside=10, threshold=0.9):\n",
    "    rand_coord = SkyCoord(ra=rand_cat['RA']*u.deg, dec=rand_cat['DEC']*u.deg)\n",
    "    rand_pix = hp.ang2pix(nside, np.radians(90 - rand_coord.dec.value), np.radians(rand_coord.ra.value))\n",
    "\n",
    "    unique, counts = np.unique(rand_pix, return_counts=True)\n",
    "    mean_density = np.mean(counts)\n",
    "    good_pix = unique[counts > threshold * mean_density]\n",
    "\n",
    "    gal_coord = SkyCoord(ra=catalog['RA']*u.deg, dec=catalog['DEC']*u.deg)\n",
    "    gal_pix = hp.ang2pix(nside, np.radians(90 - gal_coord.dec.value), np.radians(gal_coord.ra.value))\n",
    "\n",
    "    mask = np.isin(gal_pix, good_pix)\n",
    "    return gal_pix[mask], mask"
   ],
   "id": "96ddf5cde3ca0cef",
   "outputs": [],
   "execution_count": 46
  },
  {
   "cell_type": "code",
   "id": "24ff54e6-d5d2-4e0e-be13-4de415c06179",
   "metadata": {
    "ExecuteTime": {
     "end_time": "2025-10-19T01:02:16.479421Z",
     "start_time": "2025-10-19T01:02:16.473618Z"
    }
   },
   "source": [
    "# --- κ stacker ---\n",
    "def stack_kappa(data, weights, label):\n",
    "    sz = grid_size**2\n",
    "    sum_wk = np.zeros(sz)\n",
    "    sum_wk2 = np.zeros(sz)\n",
    "    sum_w = np.zeros(sz)\n",
    "\n",
    "    # --- Preprocess only valid galaxies and convert to Galactic ---\n",
    "    l_arr, b_arr, D_arr, data, weights_valid = preprocess_catalog_galactic(data, weights)\n",
    "    # weights = weights[:len(data)]  # Ensure weights match filtered data\n",
    "\n",
    "    for i in tqdm(range(len(data)), desc=f\"Stacking {label}\"):\n",
    "        l = l_arr[i]\n",
    "        b = b_arr[i]\n",
    "        D = D_arr[i]\n",
    "\n",
    "        cosb = np.cos(np.radians(b))\n",
    "        dl = (off_x / D) * (180 / np.pi) / np.clip(cosb, 1e-6, None)\n",
    "        db = (off_y / D) * (180 / np.pi)\n",
    "\n",
    "        l_grid = l + dl\n",
    "        b_grid = b + db\n",
    "\n",
    "        theta = np.radians(90 - b_grid)\n",
    "        # if np.minimum(theta) < 0:\n",
    "            # print(f\"{i}: Theta less than zero encountered: {np.min(theta)}\")\n",
    "            # continue\n",
    "        # if np.maximum(theta) > np.pi:\n",
    "            # print(f\"{i}: Theta greater than zero encountered: {np.max(theta)}\")\n",
    "            # continue\n",
    "        phi = np.radians(l_grid)\n",
    "        theta = np.clip(theta, 0, np.pi)  # Ensure valid range\n",
    "        pix = hp.ang2pix(nside, theta, phi)\n",
    "\n",
    "        w = weights_valid[i] * mask[pix]\n",
    "        if np.sum(w) == 0:\n",
    "            continue\n",
    "\n",
    "        κ_vals = kmap[pix]\n",
    "        sum_wk += w * κ_vals\n",
    "        sum_wk2 += w * κ_vals**2\n",
    "        sum_w += w\n",
    "\n",
    "    valid = sum_w > 0\n",
    "    κ_mean = np.zeros_like(sum_w)\n",
    "    κ_var = np.zeros_like(sum_w)\n",
    "    κ_mean[valid] = sum_wk[valid] / sum_w[valid]\n",
    "    κ_var[valid] = sum_wk2[valid] / sum_w[valid] - κ_mean[valid]**2\n",
    "    κ_sigma = np.zeros_like(κ_var)\n",
    "    κ_sigma[valid] = np.sqrt(κ_var[valid]) / np.sqrt(sum_w[valid])\n",
    "    κ_sn = np.zeros_like(κ_mean)\n",
    "    κ_sn[valid & (κ_sigma > 0)] = κ_mean[valid & (κ_sigma > 0)] / κ_sigma[valid & (κ_sigma > 0)]\n",
    "\n",
    "    return κ_mean.reshape(grid_size, grid_size), κ_sigma.reshape(grid_size, grid_size), κ_sn.reshape(grid_size, grid_size)"
   ],
   "outputs": [],
   "execution_count": 47
  },
  {
   "metadata": {
    "ExecuteTime": {
     "end_time": "2025-10-19T01:02:16.485200Z",
     "start_time": "2025-10-19T01:02:16.482471Z"
    }
   },
   "cell_type": "code",
   "source": [
    "def jackknife_stack_healpix(data, weights, rand_cat, nside=10, threshold=0.9):\n",
    "    print(\"Assigning jackknife regions...\")\n",
    "    jk_regions, valid_mask = assign_jackknife_regions_healpix(data, rand_cat, nside, threshold)\n",
    "    data, weights = data[valid_mask], weights[valid_mask]\n",
    "    unique_regions = np.unique(jk_regions)\n",
    "\n",
    "    kappa_jk = []\n",
    "\n",
    "    for reg in tqdm(unique_regions, desc=\"Jackknife (HEALPix)\"):\n",
    "        mask_jk = jk_regions != reg\n",
    "        data_jk = data[mask_jk]\n",
    "        weights_jk = weights[mask_jk]\n",
    "        kappa, _, _ = stack_kappa(data_jk, weights_jk, f\"JK-{reg}\")\n",
    "        kappa_jk.append(kappa)\n",
    "\n",
    "    kappa_jk = np.array(kappa_jk)\n",
    "    kappa_mean = np.mean(kappa_jk, axis=0)\n",
    "    kappa_err = np.sqrt((len(kappa_jk) - 1) / len(kappa_jk) * np.sum((kappa_jk - kappa_mean)**2, axis=0))\n",
    "\n",
    "    return kappa_mean, kappa_err"
   ],
   "id": "6f4ada628f631b2e",
   "outputs": [],
   "execution_count": 48
  },
  {
   "cell_type": "code",
   "id": "799bd7ce-29cb-447e-9dde-36d5370cf417",
   "metadata": {
    "ExecuteTime": {
     "end_time": "2025-10-19T01:02:16.489452Z",
     "start_time": "2025-10-19T01:02:16.487619Z"
    }
   },
   "source": [
    "# --- Plotting ---\n",
    "def plot_map(arr, title, cmap='viridis', label='κ'):\n",
    "    plt.imshow(arr, origin='lower', extent=extent, cmap=cmap)\n",
    "    plt.colorbar(label=label)\n",
    "    plt.xlabel(\"Galactic l offset (h⁻¹ Mpc)\")\n",
    "    plt.ylabel(\"Galactic b offset (h⁻¹ Mpc)\")\n",
    "    plt.title(title)\n",
    "    plt.show()"
   ],
   "outputs": [],
   "execution_count": 49
  },
  {
   "cell_type": "code",
   "id": "3c4d6830-3e98-4a81-b878-7d89a4e85f43",
   "metadata": {
    "ExecuteTime": {
     "end_time": "2025-10-19T10:39:58.895452Z",
     "start_time": "2025-10-19T01:02:16.497698Z"
    }
   },
   "source": [
    "# --- Run all ---\n",
    "if dataset == \"BOSS\":\n",
    "    z_min = .4\n",
    "    z_max = .7\n",
    "    weight = \"CMASS\"\n",
    "else: # eBOSS\n",
    "    z_min = 0\n",
    "    z_max = 10000\n",
    "    weight = True\n",
    "print(\"Loading catalogs...\")\n",
    "data_real, w_real = load_catalog(real_file, weights=weight, z_min=z_min, z_max=z_max)\n",
    "print(\"Loading random catalogs...\")\n",
    "data_rand, w_rand = load_catalog(rand_file, weights=False, random_fraction=0.10, z_min=z_min, z_max=z_max)\n",
    "\n",
    "# Jackknife real galaxies\n",
    "kappa_real, sigma_real = jackknife_stack_healpix(data_real, w_real, data_rand, nside=10)\n",
    "sn_real = np.zeros_like(kappa_real)\n",
    "valid = sigma_real > 0\n",
    "sn_real[valid] = kappa_real[valid] / sigma_real[valid]\n",
    "kappa_rand, sigma_rand, sn_rand = stack_kappa(data_rand, w_rand, \"Random\")\n",
    "kappa_sub = kappa_real - kappa_rand\n",
    "# kappa_smooth = gaussian_filter(kappa_sub, sigma=2)"
   ],
   "outputs": [
    {
     "name": "stdout",
     "output_type": "stream",
     "text": [
      "Loading catalogs...\n",
      "Loading random catalogs...\n",
      "Assigning jackknife regions...\n"
     ]
    },
    {
     "data": {
      "text/plain": [
       "Jackknife (HEALPix):   0%|          | 0/200 [00:00<?, ?it/s]"
      ],
      "application/vnd.jupyter.widget-view+json": {
       "version_major": 2,
       "version_minor": 0,
       "model_id": "52fcf5ca6d664a94ac935b56e211a62a"
      }
     },
     "metadata": {},
     "output_type": "display_data"
    },
    {
     "data": {
      "text/plain": [
       "Stacking JK-49:   0%|          | 0/532441 [00:00<?, ?it/s]"
      ],
      "application/vnd.jupyter.widget-view+json": {
       "version_major": 2,
       "version_minor": 0,
       "model_id": "52b1e3c0381749d4855d6ab8122e754a"
      }
     },
     "metadata": {},
     "output_type": "display_data"
    },
    {
     "data": {
      "text/plain": [
       "Stacking JK-50:   0%|          | 0/532296 [00:00<?, ?it/s]"
      ],
      "application/vnd.jupyter.widget-view+json": {
       "version_major": 2,
       "version_minor": 0,
       "model_id": "daf190dfb11045d597a142c0b918d7f4"
      }
     },
     "metadata": {},
     "output_type": "display_data"
    },
    {
     "data": {
      "text/plain": [
       "Stacking JK-69:   0%|          | 0/532292 [00:00<?, ?it/s]"
      ],
      "application/vnd.jupyter.widget-view+json": {
       "version_major": 2,
       "version_minor": 0,
       "model_id": "7206796d7f444008960c807253ef23bf"
      }
     },
     "metadata": {},
     "output_type": "display_data"
    },
    {
     "data": {
      "text/plain": [
       "Stacking JK-70:   0%|          | 0/532095 [00:00<?, ?it/s]"
      ],
      "application/vnd.jupyter.widget-view+json": {
       "version_major": 2,
       "version_minor": 0,
       "model_id": "7bc17bbf1d5d44a28c80c258e3609bea"
      }
     },
     "metadata": {},
     "output_type": "display_data"
    },
    {
     "data": {
      "text/plain": [
       "Stacking JK-71:   0%|          | 0/531983 [00:00<?, ?it/s]"
      ],
      "application/vnd.jupyter.widget-view+json": {
       "version_major": 2,
       "version_minor": 0,
       "model_id": "a10ad32e40834383a2ae7189887a4da6"
      }
     },
     "metadata": {},
     "output_type": "display_data"
    },
    {
     "data": {
      "text/plain": [
       "Stacking JK-72:   0%|          | 0/531782 [00:00<?, ?it/s]"
      ],
      "application/vnd.jupyter.widget-view+json": {
       "version_major": 2,
       "version_minor": 0,
       "model_id": "97542ee02b494eb19ccd6df1d9770c88"
      }
     },
     "metadata": {},
     "output_type": "display_data"
    },
    {
     "data": {
      "text/plain": [
       "Stacking JK-73:   0%|          | 0/531555 [00:00<?, ?it/s]"
      ],
      "application/vnd.jupyter.widget-view+json": {
       "version_major": 2,
       "version_minor": 0,
       "model_id": "e8f460b9afc94ec8a5a3c1327ef20ca5"
      }
     },
     "metadata": {},
     "output_type": "display_data"
    },
    {
     "data": {
      "text/plain": [
       "Stacking JK-74:   0%|          | 0/531761 [00:00<?, ?it/s]"
      ],
      "application/vnd.jupyter.widget-view+json": {
       "version_major": 2,
       "version_minor": 0,
       "model_id": "0dfc9d75e01f4e6f83851a1b1f3d1ea8"
      }
     },
     "metadata": {},
     "output_type": "display_data"
    },
    {
     "data": {
      "text/plain": [
       "Stacking JK-94:   0%|          | 0/531904 [00:00<?, ?it/s]"
      ],
      "application/vnd.jupyter.widget-view+json": {
       "version_major": 2,
       "version_minor": 0,
       "model_id": "552ff442258a4659b1664e2db78e4b90"
      }
     },
     "metadata": {},
     "output_type": "display_data"
    },
    {
     "data": {
      "text/plain": [
       "Stacking JK-95:   0%|          | 0/532323 [00:00<?, ?it/s]"
      ],
      "application/vnd.jupyter.widget-view+json": {
       "version_major": 2,
       "version_minor": 0,
       "model_id": "3f72b22db06840d2babaf3b84d7e8960"
      }
     },
     "metadata": {},
     "output_type": "display_data"
    },
    {
     "data": {
      "text/plain": [
       "Stacking JK-96:   0%|          | 0/531610 [00:00<?, ?it/s]"
      ],
      "application/vnd.jupyter.widget-view+json": {
       "version_major": 2,
       "version_minor": 0,
       "model_id": "3c3eec8d3f534619babeb30280864ecc"
      }
     },
     "metadata": {},
     "output_type": "display_data"
    },
    {
     "data": {
      "text/plain": [
       "Stacking JK-97:   0%|          | 0/531726 [00:00<?, ?it/s]"
      ],
      "application/vnd.jupyter.widget-view+json": {
       "version_major": 2,
       "version_minor": 0,
       "model_id": "45201c75d1cc4a66a187f436d67be584"
      }
     },
     "metadata": {},
     "output_type": "display_data"
    },
    {
     "data": {
      "text/plain": [
       "Stacking JK-98:   0%|          | 0/531787 [00:00<?, ?it/s]"
      ],
      "application/vnd.jupyter.widget-view+json": {
       "version_major": 2,
       "version_minor": 0,
       "model_id": "ab0969d248514d8eadcf2fdca063776f"
      }
     },
     "metadata": {},
     "output_type": "display_data"
    },
    {
     "data": {
      "text/plain": [
       "Stacking JK-99:   0%|          | 0/531442 [00:00<?, ?it/s]"
      ],
      "application/vnd.jupyter.widget-view+json": {
       "version_major": 2,
       "version_minor": 0,
       "model_id": "57d88e0c0e1e46b5bf71a31cbb464283"
      }
     },
     "metadata": {},
     "output_type": "display_data"
    },
    {
     "data": {
      "text/plain": [
       "Stacking JK-100:   0%|          | 0/531548 [00:00<?, ?it/s]"
      ],
      "application/vnd.jupyter.widget-view+json": {
       "version_major": 2,
       "version_minor": 0,
       "model_id": "4365a5c5df2641d385aa8bad177e5cc3"
      }
     },
     "metadata": {},
     "output_type": "display_data"
    },
    {
     "data": {
      "text/plain": [
       "Stacking JK-101:   0%|          | 0/531782 [00:00<?, ?it/s]"
      ],
      "application/vnd.jupyter.widget-view+json": {
       "version_major": 2,
       "version_minor": 0,
       "model_id": "6517223b23b8415ba35101cb25112982"
      }
     },
     "metadata": {},
     "output_type": "display_data"
    },
    {
     "data": {
      "text/plain": [
       "Stacking JK-102:   0%|          | 0/532210 [00:00<?, ?it/s]"
      ],
      "application/vnd.jupyter.widget-view+json": {
       "version_major": 2,
       "version_minor": 0,
       "model_id": "bae2fb667ad746b2a636405c66b440aa"
      }
     },
     "metadata": {},
     "output_type": "display_data"
    },
    {
     "data": {
      "text/plain": [
       "Stacking JK-123:   0%|          | 0/532294 [00:00<?, ?it/s]"
      ],
      "application/vnd.jupyter.widget-view+json": {
       "version_major": 2,
       "version_minor": 0,
       "model_id": "ce0ce88c05344df7846ea8f9974c1612"
      }
     },
     "metadata": {},
     "output_type": "display_data"
    },
    {
     "data": {
      "text/plain": [
       "Stacking JK-124:   0%|          | 0/531600 [00:00<?, ?it/s]"
      ],
      "application/vnd.jupyter.widget-view+json": {
       "version_major": 2,
       "version_minor": 0,
       "model_id": "214782faa7d34a10b0e14f0e4228d0c7"
      }
     },
     "metadata": {},
     "output_type": "display_data"
    },
    {
     "data": {
      "text/plain": [
       "Stacking JK-125:   0%|          | 0/531562 [00:00<?, ?it/s]"
      ],
      "application/vnd.jupyter.widget-view+json": {
       "version_major": 2,
       "version_minor": 0,
       "model_id": "0664ba2f99304fddadc9502f432b9662"
      }
     },
     "metadata": {},
     "output_type": "display_data"
    },
    {
     "data": {
      "text/plain": [
       "Stacking JK-126:   0%|          | 0/531333 [00:00<?, ?it/s]"
      ],
      "application/vnd.jupyter.widget-view+json": {
       "version_major": 2,
       "version_minor": 0,
       "model_id": "c95a71cdf6ce4edfb2e1a462c53cd76e"
      }
     },
     "metadata": {},
     "output_type": "display_data"
    },
    {
     "data": {
      "text/plain": [
       "Stacking JK-127:   0%|          | 0/531785 [00:00<?, ?it/s]"
      ],
      "application/vnd.jupyter.widget-view+json": {
       "version_major": 2,
       "version_minor": 0,
       "model_id": "268062b65bf4428b9ee6fb2e420898ef"
      }
     },
     "metadata": {},
     "output_type": "display_data"
    },
    {
     "data": {
      "text/plain": [
       "Stacking JK-128:   0%|          | 0/531968 [00:00<?, ?it/s]"
      ],
      "application/vnd.jupyter.widget-view+json": {
       "version_major": 2,
       "version_minor": 0,
       "model_id": "70edf2367c75495d951f8d25df979d8e"
      }
     },
     "metadata": {},
     "output_type": "display_data"
    },
    {
     "data": {
      "text/plain": [
       "Stacking JK-129:   0%|          | 0/531598 [00:00<?, ?it/s]"
      ],
      "application/vnd.jupyter.widget-view+json": {
       "version_major": 2,
       "version_minor": 0,
       "model_id": "8a95e3202d414dd4a2d81914fc43fe69"
      }
     },
     "metadata": {},
     "output_type": "display_data"
    },
    {
     "data": {
      "text/plain": [
       "Stacking JK-130:   0%|          | 0/531362 [00:00<?, ?it/s]"
      ],
      "application/vnd.jupyter.widget-view+json": {
       "version_major": 2,
       "version_minor": 0,
       "model_id": "425e58d2c1aa4c28b61004fd214f5eb4"
      }
     },
     "metadata": {},
     "output_type": "display_data"
    },
    {
     "data": {
      "text/plain": [
       "Stacking JK-131:   0%|          | 0/531149 [00:00<?, ?it/s]"
      ],
      "application/vnd.jupyter.widget-view+json": {
       "version_major": 2,
       "version_minor": 0,
       "model_id": "221f6de7179f4470b99ce48b3a3b9c31"
      }
     },
     "metadata": {},
     "output_type": "display_data"
    },
    {
     "data": {
      "text/plain": [
       "Stacking JK-132:   0%|          | 0/531753 [00:00<?, ?it/s]"
      ],
      "application/vnd.jupyter.widget-view+json": {
       "version_major": 2,
       "version_minor": 0,
       "model_id": "51c7d02f876a45b2b4deeff9a33e6deb"
      }
     },
     "metadata": {},
     "output_type": "display_data"
    },
    {
     "data": {
      "text/plain": [
       "Stacking JK-133:   0%|          | 0/532059 [00:00<?, ?it/s]"
      ],
      "application/vnd.jupyter.widget-view+json": {
       "version_major": 2,
       "version_minor": 0,
       "model_id": "db16c25d391b4f6cb34cbe5db891598f"
      }
     },
     "metadata": {},
     "output_type": "display_data"
    },
    {
     "data": {
      "text/plain": [
       "Stacking JK-156:   0%|          | 0/532088 [00:00<?, ?it/s]"
      ],
      "application/vnd.jupyter.widget-view+json": {
       "version_major": 2,
       "version_minor": 0,
       "model_id": "78b1f5a5db7b4347afe29d6aa82bd60a"
      }
     },
     "metadata": {},
     "output_type": "display_data"
    },
    {
     "data": {
      "text/plain": [
       "Stacking JK-157:   0%|          | 0/532052 [00:00<?, ?it/s]"
      ],
      "application/vnd.jupyter.widget-view+json": {
       "version_major": 2,
       "version_minor": 0,
       "model_id": "bde756483c484465b7e04fbfc50acc75"
      }
     },
     "metadata": {},
     "output_type": "display_data"
    },
    {
     "data": {
      "text/plain": [
       "Stacking JK-158:   0%|          | 0/531697 [00:00<?, ?it/s]"
      ],
      "application/vnd.jupyter.widget-view+json": {
       "version_major": 2,
       "version_minor": 0,
       "model_id": "ff78c57794db48f393ec8ed6ba1a218a"
      }
     },
     "metadata": {},
     "output_type": "display_data"
    },
    {
     "data": {
      "text/plain": [
       "Stacking JK-159:   0%|          | 0/531217 [00:00<?, ?it/s]"
      ],
      "application/vnd.jupyter.widget-view+json": {
       "version_major": 2,
       "version_minor": 0,
       "model_id": "c3aad1f0022b424aae551e3078bd2701"
      }
     },
     "metadata": {},
     "output_type": "display_data"
    },
    {
     "data": {
      "text/plain": [
       "Stacking JK-160:   0%|          | 0/531367 [00:00<?, ?it/s]"
      ],
      "application/vnd.jupyter.widget-view+json": {
       "version_major": 2,
       "version_minor": 0,
       "model_id": "46b8c623ba2c41d38d40df3c193db383"
      }
     },
     "metadata": {},
     "output_type": "display_data"
    },
    {
     "data": {
      "text/plain": [
       "Stacking JK-161:   0%|          | 0/531853 [00:00<?, ?it/s]"
      ],
      "application/vnd.jupyter.widget-view+json": {
       "version_major": 2,
       "version_minor": 0,
       "model_id": "385a5874316c475d91769d190cc45fbb"
      }
     },
     "metadata": {},
     "output_type": "display_data"
    },
    {
     "data": {
      "text/plain": [
       "Stacking JK-162:   0%|          | 0/531387 [00:00<?, ?it/s]"
      ],
      "application/vnd.jupyter.widget-view+json": {
       "version_major": 2,
       "version_minor": 0,
       "model_id": "135c6bf85bcd402391bf3cd47abf6ed4"
      }
     },
     "metadata": {},
     "output_type": "display_data"
    },
    {
     "data": {
      "text/plain": [
       "Stacking JK-163:   0%|          | 0/531461 [00:00<?, ?it/s]"
      ],
      "application/vnd.jupyter.widget-view+json": {
       "version_major": 2,
       "version_minor": 0,
       "model_id": "2369a26bc6a5490a9f9f7c22f5c09632"
      }
     },
     "metadata": {},
     "output_type": "display_data"
    },
    {
     "data": {
      "text/plain": [
       "Stacking JK-164:   0%|          | 0/531905 [00:00<?, ?it/s]"
      ],
      "application/vnd.jupyter.widget-view+json": {
       "version_major": 2,
       "version_minor": 0,
       "model_id": "68f22c1249b34b7b8878034dcc2cdfa0"
      }
     },
     "metadata": {},
     "output_type": "display_data"
    },
    {
     "data": {
      "text/plain": [
       "Stacking JK-165:   0%|          | 0/531744 [00:00<?, ?it/s]"
      ],
      "application/vnd.jupyter.widget-view+json": {
       "version_major": 2,
       "version_minor": 0,
       "model_id": "41223d81c68f46348f3f55d0099ecc3d"
      }
     },
     "metadata": {},
     "output_type": "display_data"
    },
    {
     "data": {
      "text/plain": [
       "Stacking JK-166:   0%|          | 0/531363 [00:00<?, ?it/s]"
      ],
      "application/vnd.jupyter.widget-view+json": {
       "version_major": 2,
       "version_minor": 0,
       "model_id": "ab2b59c8f83d4d47b2102c5e601aca78"
      }
     },
     "metadata": {},
     "output_type": "display_data"
    },
    {
     "data": {
      "text/plain": [
       "Stacking JK-167:   0%|          | 0/531712 [00:00<?, ?it/s]"
      ],
      "application/vnd.jupyter.widget-view+json": {
       "version_major": 2,
       "version_minor": 0,
       "model_id": "484f1b3058704fedbec73ba370a1f734"
      }
     },
     "metadata": {},
     "output_type": "display_data"
    },
    {
     "data": {
      "text/plain": [
       "Stacking JK-168:   0%|          | 0/532001 [00:00<?, ?it/s]"
      ],
      "application/vnd.jupyter.widget-view+json": {
       "version_major": 2,
       "version_minor": 0,
       "model_id": "7e5814df9b2b4aaaa03dc1428e34905a"
      }
     },
     "metadata": {},
     "output_type": "display_data"
    },
    {
     "data": {
      "text/plain": [
       "Stacking JK-193:   0%|          | 0/532026 [00:00<?, ?it/s]"
      ],
      "application/vnd.jupyter.widget-view+json": {
       "version_major": 2,
       "version_minor": 0,
       "model_id": "ac880b0c4ad345249a863206d44baf47"
      }
     },
     "metadata": {},
     "output_type": "display_data"
    },
    {
     "data": {
      "text/plain": [
       "Stacking JK-194:   0%|          | 0/531898 [00:00<?, ?it/s]"
      ],
      "application/vnd.jupyter.widget-view+json": {
       "version_major": 2,
       "version_minor": 0,
       "model_id": "5ec9f0e2400846d2815f09afa0af58cc"
      }
     },
     "metadata": {},
     "output_type": "display_data"
    },
    {
     "data": {
      "text/plain": [
       "Stacking JK-195:   0%|          | 0/532157 [00:00<?, ?it/s]"
      ],
      "application/vnd.jupyter.widget-view+json": {
       "version_major": 2,
       "version_minor": 0,
       "model_id": "2404d1a9287c4994ad65c91802996dc7"
      }
     },
     "metadata": {},
     "output_type": "display_data"
    },
    {
     "data": {
      "text/plain": [
       "Stacking JK-196:   0%|          | 0/531421 [00:00<?, ?it/s]"
      ],
      "application/vnd.jupyter.widget-view+json": {
       "version_major": 2,
       "version_minor": 0,
       "model_id": "9de256be0c50432083f8643f294a3246"
      }
     },
     "metadata": {},
     "output_type": "display_data"
    },
    {
     "data": {
      "text/plain": [
       "Stacking JK-197:   0%|          | 0/531928 [00:00<?, ?it/s]"
      ],
      "application/vnd.jupyter.widget-view+json": {
       "version_major": 2,
       "version_minor": 0,
       "model_id": "6187b7d909a8429c8ddb48b93cf601c5"
      }
     },
     "metadata": {},
     "output_type": "display_data"
    },
    {
     "data": {
      "text/plain": [
       "Stacking JK-198:   0%|          | 0/531727 [00:00<?, ?it/s]"
      ],
      "application/vnd.jupyter.widget-view+json": {
       "version_major": 2,
       "version_minor": 0,
       "model_id": "0acacb133b34416e8f133570a0888921"
      }
     },
     "metadata": {},
     "output_type": "display_data"
    },
    {
     "data": {
      "text/plain": [
       "Stacking JK-199:   0%|          | 0/531596 [00:00<?, ?it/s]"
      ],
      "application/vnd.jupyter.widget-view+json": {
       "version_major": 2,
       "version_minor": 0,
       "model_id": "9bd7bee11b664d339e8c16d8af3a5283"
      }
     },
     "metadata": {},
     "output_type": "display_data"
    },
    {
     "data": {
      "text/plain": [
       "Stacking JK-200:   0%|          | 0/531713 [00:00<?, ?it/s]"
      ],
      "application/vnd.jupyter.widget-view+json": {
       "version_major": 2,
       "version_minor": 0,
       "model_id": "a1d121c08064479b944270dfd5d49e0e"
      }
     },
     "metadata": {},
     "output_type": "display_data"
    },
    {
     "data": {
      "text/plain": [
       "Stacking JK-201:   0%|          | 0/531581 [00:00<?, ?it/s]"
      ],
      "application/vnd.jupyter.widget-view+json": {
       "version_major": 2,
       "version_minor": 0,
       "model_id": "4a06358ad4cd4b9899ccf581dee725f2"
      }
     },
     "metadata": {},
     "output_type": "display_data"
    },
    {
     "data": {
      "text/plain": [
       "Stacking JK-202:   0%|          | 0/532009 [00:00<?, ?it/s]"
      ],
      "application/vnd.jupyter.widget-view+json": {
       "version_major": 2,
       "version_minor": 0,
       "model_id": "2266f42ce3714bc7ac048aba1ec1915b"
      }
     },
     "metadata": {},
     "output_type": "display_data"
    },
    {
     "data": {
      "text/plain": [
       "Stacking JK-203:   0%|          | 0/531578 [00:00<?, ?it/s]"
      ],
      "application/vnd.jupyter.widget-view+json": {
       "version_major": 2,
       "version_minor": 0,
       "model_id": "3e36e2aec7e04164b536a6e10ea1c1fa"
      }
     },
     "metadata": {},
     "output_type": "display_data"
    },
    {
     "data": {
      "text/plain": [
       "Stacking JK-204:   0%|          | 0/532070 [00:00<?, ?it/s]"
      ],
      "application/vnd.jupyter.widget-view+json": {
       "version_major": 2,
       "version_minor": 0,
       "model_id": "307bb6ee3a56453f9a55903ce55a3d4b"
      }
     },
     "metadata": {},
     "output_type": "display_data"
    },
    {
     "data": {
      "text/plain": [
       "Stacking JK-206:   0%|          | 0/531687 [00:00<?, ?it/s]"
      ],
      "application/vnd.jupyter.widget-view+json": {
       "version_major": 2,
       "version_minor": 0,
       "model_id": "97e3769434c64c1da5b531f79c231979"
      }
     },
     "metadata": {},
     "output_type": "display_data"
    },
    {
     "data": {
      "text/plain": [
       "Stacking JK-207:   0%|          | 0/531832 [00:00<?, ?it/s]"
      ],
      "application/vnd.jupyter.widget-view+json": {
       "version_major": 2,
       "version_minor": 0,
       "model_id": "ceb9a9dff3b94780811842ac46a61efb"
      }
     },
     "metadata": {},
     "output_type": "display_data"
    },
    {
     "data": {
      "text/plain": [
       "Stacking JK-233:   0%|          | 0/531708 [00:00<?, ?it/s]"
      ],
      "application/vnd.jupyter.widget-view+json": {
       "version_major": 2,
       "version_minor": 0,
       "model_id": "4a50501502394732beea6118f4fc18e3"
      }
     },
     "metadata": {},
     "output_type": "display_data"
    },
    {
     "data": {
      "text/plain": [
       "Stacking JK-234:   0%|          | 0/531807 [00:00<?, ?it/s]"
      ],
      "application/vnd.jupyter.widget-view+json": {
       "version_major": 2,
       "version_minor": 0,
       "model_id": "8d1a070b6ead4627b93563904c329d34"
      }
     },
     "metadata": {},
     "output_type": "display_data"
    },
    {
     "data": {
      "text/plain": [
       "Stacking JK-235:   0%|          | 0/532016 [00:00<?, ?it/s]"
      ],
      "application/vnd.jupyter.widget-view+json": {
       "version_major": 2,
       "version_minor": 0,
       "model_id": "e2e5a4e46306450cbb7ac2fe69b0ac0f"
      }
     },
     "metadata": {},
     "output_type": "display_data"
    },
    {
     "data": {
      "text/plain": [
       "Stacking JK-236:   0%|          | 0/531777 [00:00<?, ?it/s]"
      ],
      "application/vnd.jupyter.widget-view+json": {
       "version_major": 2,
       "version_minor": 0,
       "model_id": "668dba17241f437ca2e2611dbf901340"
      }
     },
     "metadata": {},
     "output_type": "display_data"
    },
    {
     "data": {
      "text/plain": [
       "Stacking JK-237:   0%|          | 0/531669 [00:00<?, ?it/s]"
      ],
      "application/vnd.jupyter.widget-view+json": {
       "version_major": 2,
       "version_minor": 0,
       "model_id": "8f6c24ffa1ea4d199eaea79f3a77ca7d"
      }
     },
     "metadata": {},
     "output_type": "display_data"
    },
    {
     "data": {
      "text/plain": [
       "Stacking JK-238:   0%|          | 0/531867 [00:00<?, ?it/s]"
      ],
      "application/vnd.jupyter.widget-view+json": {
       "version_major": 2,
       "version_minor": 0,
       "model_id": "08fb7a2d2c7e44bd8ccfa283a1ea9542"
      }
     },
     "metadata": {},
     "output_type": "display_data"
    },
    {
     "data": {
      "text/plain": [
       "Stacking JK-239:   0%|          | 0/531647 [00:00<?, ?it/s]"
      ],
      "application/vnd.jupyter.widget-view+json": {
       "version_major": 2,
       "version_minor": 0,
       "model_id": "eac2bd88575f4f789e9c41019a22c35c"
      }
     },
     "metadata": {},
     "output_type": "display_data"
    },
    {
     "data": {
      "text/plain": [
       "Stacking JK-240:   0%|          | 0/531444 [00:00<?, ?it/s]"
      ],
      "application/vnd.jupyter.widget-view+json": {
       "version_major": 2,
       "version_minor": 0,
       "model_id": "6fdb5d580b0f423aba0daae60ad4dec5"
      }
     },
     "metadata": {},
     "output_type": "display_data"
    },
    {
     "data": {
      "text/plain": [
       "Stacking JK-241:   0%|          | 0/531536 [00:00<?, ?it/s]"
      ],
      "application/vnd.jupyter.widget-view+json": {
       "version_major": 2,
       "version_minor": 0,
       "model_id": "d126478c90434111baddb1407d8f31a4"
      }
     },
     "metadata": {},
     "output_type": "display_data"
    },
    {
     "data": {
      "text/plain": [
       "Stacking JK-242:   0%|          | 0/531994 [00:00<?, ?it/s]"
      ],
      "application/vnd.jupyter.widget-view+json": {
       "version_major": 2,
       "version_minor": 0,
       "model_id": "b4afd0406af14d6a97e8ac67ad6d40ca"
      }
     },
     "metadata": {},
     "output_type": "display_data"
    },
    {
     "data": {
      "text/plain": [
       "Stacking JK-243:   0%|          | 0/531631 [00:00<?, ?it/s]"
      ],
      "application/vnd.jupyter.widget-view+json": {
       "version_major": 2,
       "version_minor": 0,
       "model_id": "a325b7355a7f4eabadde3cee8d3cc323"
      }
     },
     "metadata": {},
     "output_type": "display_data"
    },
    {
     "data": {
      "text/plain": [
       "Stacking JK-244:   0%|          | 0/531496 [00:00<?, ?it/s]"
      ],
      "application/vnd.jupyter.widget-view+json": {
       "version_major": 2,
       "version_minor": 0,
       "model_id": "67d1b81d1fe948308379ca9f35dbbb02"
      }
     },
     "metadata": {},
     "output_type": "display_data"
    },
    {
     "data": {
      "text/plain": [
       "Stacking JK-245:   0%|          | 0/531788 [00:00<?, ?it/s]"
      ],
      "application/vnd.jupyter.widget-view+json": {
       "version_major": 2,
       "version_minor": 0,
       "model_id": "6b046efbadd34b40bfa02e60196f2b79"
      }
     },
     "metadata": {},
     "output_type": "display_data"
    },
    {
     "data": {
      "text/plain": [
       "Stacking JK-246:   0%|          | 0/531976 [00:00<?, ?it/s]"
      ],
      "application/vnd.jupyter.widget-view+json": {
       "version_major": 2,
       "version_minor": 0,
       "model_id": "3569a006897946faa175cd11a683b1d5"
      }
     },
     "metadata": {},
     "output_type": "display_data"
    },
    {
     "data": {
      "text/plain": [
       "Stacking JK-247:   0%|          | 0/531961 [00:00<?, ?it/s]"
      ],
      "application/vnd.jupyter.widget-view+json": {
       "version_major": 2,
       "version_minor": 0,
       "model_id": "3e6d8a73a24843bda0275e8b29568321"
      }
     },
     "metadata": {},
     "output_type": "display_data"
    },
    {
     "data": {
      "text/plain": [
       "Stacking JK-248:   0%|          | 0/532180 [00:00<?, ?it/s]"
      ],
      "application/vnd.jupyter.widget-view+json": {
       "version_major": 2,
       "version_minor": 0,
       "model_id": "5c14ec58b02d48249f1df9997a2ddf30"
      }
     },
     "metadata": {},
     "output_type": "display_data"
    },
    {
     "data": {
      "text/plain": [
       "Stacking JK-273:   0%|          | 0/531723 [00:00<?, ?it/s]"
      ],
      "application/vnd.jupyter.widget-view+json": {
       "version_major": 2,
       "version_minor": 0,
       "model_id": "f54424169f5e425683ed0ae5cf4493c9"
      }
     },
     "metadata": {},
     "output_type": "display_data"
    },
    {
     "data": {
      "text/plain": [
       "Stacking JK-274:   0%|          | 0/531891 [00:00<?, ?it/s]"
      ],
      "application/vnd.jupyter.widget-view+json": {
       "version_major": 2,
       "version_minor": 0,
       "model_id": "2aff082e8bdb4afca9aa99c00979a637"
      }
     },
     "metadata": {},
     "output_type": "display_data"
    },
    {
     "data": {
      "text/plain": [
       "Stacking JK-275:   0%|          | 0/531875 [00:00<?, ?it/s]"
      ],
      "application/vnd.jupyter.widget-view+json": {
       "version_major": 2,
       "version_minor": 0,
       "model_id": "509ca20fbf6c4abbad84ba1620845b95"
      }
     },
     "metadata": {},
     "output_type": "display_data"
    },
    {
     "data": {
      "text/plain": [
       "Stacking JK-276:   0%|          | 0/531529 [00:00<?, ?it/s]"
      ],
      "application/vnd.jupyter.widget-view+json": {
       "version_major": 2,
       "version_minor": 0,
       "model_id": "5a2f7752b54945779110f17c85870bbb"
      }
     },
     "metadata": {},
     "output_type": "display_data"
    },
    {
     "data": {
      "text/plain": [
       "Stacking JK-277:   0%|          | 0/531602 [00:00<?, ?it/s]"
      ],
      "application/vnd.jupyter.widget-view+json": {
       "version_major": 2,
       "version_minor": 0,
       "model_id": "867c171e52bc4e089bb631fb874b67c2"
      }
     },
     "metadata": {},
     "output_type": "display_data"
    },
    {
     "data": {
      "text/plain": [
       "Stacking JK-278:   0%|          | 0/532014 [00:00<?, ?it/s]"
      ],
      "application/vnd.jupyter.widget-view+json": {
       "version_major": 2,
       "version_minor": 0,
       "model_id": "884c4c8bef8240e2a6ad3e6af44e98e1"
      }
     },
     "metadata": {},
     "output_type": "display_data"
    },
    {
     "data": {
      "text/plain": [
       "Stacking JK-279:   0%|          | 0/531906 [00:00<?, ?it/s]"
      ],
      "application/vnd.jupyter.widget-view+json": {
       "version_major": 2,
       "version_minor": 0,
       "model_id": "83536d983f0d4589b97ce09965604630"
      }
     },
     "metadata": {},
     "output_type": "display_data"
    },
    {
     "data": {
      "text/plain": [
       "Stacking JK-280:   0%|          | 0/531984 [00:00<?, ?it/s]"
      ],
      "application/vnd.jupyter.widget-view+json": {
       "version_major": 2,
       "version_minor": 0,
       "model_id": "d455d8eab7604965a588059a3bf86bcf"
      }
     },
     "metadata": {},
     "output_type": "display_data"
    },
    {
     "data": {
      "text/plain": [
       "Stacking JK-281:   0%|          | 0/531898 [00:00<?, ?it/s]"
      ],
      "application/vnd.jupyter.widget-view+json": {
       "version_major": 2,
       "version_minor": 0,
       "model_id": "54de7c77501d41d3be32d15be08a6aea"
      }
     },
     "metadata": {},
     "output_type": "display_data"
    },
    {
     "data": {
      "text/plain": [
       "Stacking JK-282:   0%|          | 0/532033 [00:00<?, ?it/s]"
      ],
      "application/vnd.jupyter.widget-view+json": {
       "version_major": 2,
       "version_minor": 0,
       "model_id": "8c93048d2b7e4923b906d58d8ad13669"
      }
     },
     "metadata": {},
     "output_type": "display_data"
    },
    {
     "data": {
      "text/plain": [
       "Stacking JK-283:   0%|          | 0/531598 [00:00<?, ?it/s]"
      ],
      "application/vnd.jupyter.widget-view+json": {
       "version_major": 2,
       "version_minor": 0,
       "model_id": "f554b30c91674b05a6557755b7dd0f1c"
      }
     },
     "metadata": {},
     "output_type": "display_data"
    },
    {
     "data": {
      "text/plain": [
       "Stacking JK-284:   0%|          | 0/531561 [00:00<?, ?it/s]"
      ],
      "application/vnd.jupyter.widget-view+json": {
       "version_major": 2,
       "version_minor": 0,
       "model_id": "ae6d8405964547f98c48f780dce40c04"
      }
     },
     "metadata": {},
     "output_type": "display_data"
    },
    {
     "data": {
      "text/plain": [
       "Stacking JK-285:   0%|          | 0/532172 [00:00<?, ?it/s]"
      ],
      "application/vnd.jupyter.widget-view+json": {
       "version_major": 2,
       "version_minor": 0,
       "model_id": "e8ab7a3591554dfb93d5f04db76bd2a8"
      }
     },
     "metadata": {},
     "output_type": "display_data"
    },
    {
     "data": {
      "text/plain": [
       "Stacking JK-286:   0%|          | 0/531940 [00:00<?, ?it/s]"
      ],
      "application/vnd.jupyter.widget-view+json": {
       "version_major": 2,
       "version_minor": 0,
       "model_id": "2cf8321cbf8c4a3ca63f7f0e4cbdaf30"
      }
     },
     "metadata": {},
     "output_type": "display_data"
    },
    {
     "data": {
      "text/plain": [
       "Stacking JK-287:   0%|          | 0/532143 [00:00<?, ?it/s]"
      ],
      "application/vnd.jupyter.widget-view+json": {
       "version_major": 2,
       "version_minor": 0,
       "model_id": "75fc5500ea4441bd81933691af1eba86"
      }
     },
     "metadata": {},
     "output_type": "display_data"
    },
    {
     "data": {
      "text/plain": [
       "Stacking JK-288:   0%|          | 0/532150 [00:00<?, ?it/s]"
      ],
      "application/vnd.jupyter.widget-view+json": {
       "version_major": 2,
       "version_minor": 0,
       "model_id": "3a472994b5174aaeb4c9ecadf743e6c2"
      }
     },
     "metadata": {},
     "output_type": "display_data"
    },
    {
     "data": {
      "text/plain": [
       "Stacking JK-313:   0%|          | 0/532405 [00:00<?, ?it/s]"
      ],
      "application/vnd.jupyter.widget-view+json": {
       "version_major": 2,
       "version_minor": 0,
       "model_id": "6d823659e4c04400a51857a8e15e9d92"
      }
     },
     "metadata": {},
     "output_type": "display_data"
    },
    {
     "data": {
      "text/plain": [
       "Stacking JK-314:   0%|          | 0/531716 [00:00<?, ?it/s]"
      ],
      "application/vnd.jupyter.widget-view+json": {
       "version_major": 2,
       "version_minor": 0,
       "model_id": "47a05a1b53444c758d02e92333da4c48"
      }
     },
     "metadata": {},
     "output_type": "display_data"
    },
    {
     "data": {
      "text/plain": [
       "Stacking JK-315:   0%|          | 0/531429 [00:00<?, ?it/s]"
      ],
      "application/vnd.jupyter.widget-view+json": {
       "version_major": 2,
       "version_minor": 0,
       "model_id": "da69c7bf6bad4b3da4cced46fed2e548"
      }
     },
     "metadata": {},
     "output_type": "display_data"
    },
    {
     "data": {
      "text/plain": [
       "Stacking JK-316:   0%|          | 0/531653 [00:00<?, ?it/s]"
      ],
      "application/vnd.jupyter.widget-view+json": {
       "version_major": 2,
       "version_minor": 0,
       "model_id": "ba2c6aeb43984342a594e21f9dd30f50"
      }
     },
     "metadata": {},
     "output_type": "display_data"
    },
    {
     "data": {
      "text/plain": [
       "Stacking JK-317:   0%|          | 0/531685 [00:00<?, ?it/s]"
      ],
      "application/vnd.jupyter.widget-view+json": {
       "version_major": 2,
       "version_minor": 0,
       "model_id": "2abf0f7d5ff948d98a9e12facf104982"
      }
     },
     "metadata": {},
     "output_type": "display_data"
    },
    {
     "data": {
      "text/plain": [
       "Stacking JK-318:   0%|          | 0/531533 [00:00<?, ?it/s]"
      ],
      "application/vnd.jupyter.widget-view+json": {
       "version_major": 2,
       "version_minor": 0,
       "model_id": "4dccbfb030a94cb0bb3742bd6113c0d3"
      }
     },
     "metadata": {},
     "output_type": "display_data"
    },
    {
     "data": {
      "text/plain": [
       "Stacking JK-319:   0%|          | 0/531706 [00:00<?, ?it/s]"
      ],
      "application/vnd.jupyter.widget-view+json": {
       "version_major": 2,
       "version_minor": 0,
       "model_id": "2c118492c2b14376b09e34084f68f84e"
      }
     },
     "metadata": {},
     "output_type": "display_data"
    },
    {
     "data": {
      "text/plain": [
       "Stacking JK-320:   0%|          | 0/531154 [00:00<?, ?it/s]"
      ],
      "application/vnd.jupyter.widget-view+json": {
       "version_major": 2,
       "version_minor": 0,
       "model_id": "0e82daaddedf4480aee3ba61277e3cec"
      }
     },
     "metadata": {},
     "output_type": "display_data"
    },
    {
     "data": {
      "text/plain": [
       "Stacking JK-321:   0%|          | 0/531442 [00:00<?, ?it/s]"
      ],
      "application/vnd.jupyter.widget-view+json": {
       "version_major": 2,
       "version_minor": 0,
       "model_id": "c84f456bc64b4ce4a719f4d7bf520208"
      }
     },
     "metadata": {},
     "output_type": "display_data"
    },
    {
     "data": {
      "text/plain": [
       "Stacking JK-322:   0%|          | 0/532126 [00:00<?, ?it/s]"
      ],
      "application/vnd.jupyter.widget-view+json": {
       "version_major": 2,
       "version_minor": 0,
       "model_id": "a66e5752cb6f43d88dca2ef59a6fe17b"
      }
     },
     "metadata": {},
     "output_type": "display_data"
    },
    {
     "data": {
      "text/plain": [
       "Stacking JK-323:   0%|          | 0/531877 [00:00<?, ?it/s]"
      ],
      "application/vnd.jupyter.widget-view+json": {
       "version_major": 2,
       "version_minor": 0,
       "model_id": "3609ec4fc05a44bfbba1946facaf3fa8"
      }
     },
     "metadata": {},
     "output_type": "display_data"
    },
    {
     "data": {
      "text/plain": [
       "Stacking JK-324:   0%|          | 0/531862 [00:00<?, ?it/s]"
      ],
      "application/vnd.jupyter.widget-view+json": {
       "version_major": 2,
       "version_minor": 0,
       "model_id": "c84712fe977041cbb76c3d07a697fa7a"
      }
     },
     "metadata": {},
     "output_type": "display_data"
    },
    {
     "data": {
      "text/plain": [
       "Stacking JK-325:   0%|          | 0/532261 [00:00<?, ?it/s]"
      ],
      "application/vnd.jupyter.widget-view+json": {
       "version_major": 2,
       "version_minor": 0,
       "model_id": "d41f19338bdb4bdbbf101e2ceb61e90b"
      }
     },
     "metadata": {},
     "output_type": "display_data"
    },
    {
     "data": {
      "text/plain": [
       "Stacking JK-326:   0%|          | 0/531551 [00:00<?, ?it/s]"
      ],
      "application/vnd.jupyter.widget-view+json": {
       "version_major": 2,
       "version_minor": 0,
       "model_id": "123df208b56b4d76a2719d7bdab163c0"
      }
     },
     "metadata": {},
     "output_type": "display_data"
    },
    {
     "data": {
      "text/plain": [
       "Stacking JK-327:   0%|          | 0/531595 [00:00<?, ?it/s]"
      ],
      "application/vnd.jupyter.widget-view+json": {
       "version_major": 2,
       "version_minor": 0,
       "model_id": "812e0ab1b67a4563be80e15bf6fff8f0"
      }
     },
     "metadata": {},
     "output_type": "display_data"
    },
    {
     "data": {
      "text/plain": [
       "Stacking JK-328:   0%|          | 0/532020 [00:00<?, ?it/s]"
      ],
      "application/vnd.jupyter.widget-view+json": {
       "version_major": 2,
       "version_minor": 0,
       "model_id": "f42bcb9f5b0e4e928ac6adc98f333e0e"
      }
     },
     "metadata": {},
     "output_type": "display_data"
    },
    {
     "data": {
      "text/plain": [
       "Stacking JK-353:   0%|          | 0/532001 [00:00<?, ?it/s]"
      ],
      "application/vnd.jupyter.widget-view+json": {
       "version_major": 2,
       "version_minor": 0,
       "model_id": "d58fff163df34ff287f8f87b01c7c4c9"
      }
     },
     "metadata": {},
     "output_type": "display_data"
    },
    {
     "data": {
      "text/plain": [
       "Stacking JK-354:   0%|          | 0/532038 [00:00<?, ?it/s]"
      ],
      "application/vnd.jupyter.widget-view+json": {
       "version_major": 2,
       "version_minor": 0,
       "model_id": "0240745840024e76b93e780b673febcf"
      }
     },
     "metadata": {},
     "output_type": "display_data"
    },
    {
     "data": {
      "text/plain": [
       "Stacking JK-355:   0%|          | 0/531881 [00:00<?, ?it/s]"
      ],
      "application/vnd.jupyter.widget-view+json": {
       "version_major": 2,
       "version_minor": 0,
       "model_id": "81844e0c20dd486a864333e2ca4106db"
      }
     },
     "metadata": {},
     "output_type": "display_data"
    },
    {
     "data": {
      "text/plain": [
       "Stacking JK-356:   0%|          | 0/531784 [00:00<?, ?it/s]"
      ],
      "application/vnd.jupyter.widget-view+json": {
       "version_major": 2,
       "version_minor": 0,
       "model_id": "f0fe4dc88c394884a208034e24998a99"
      }
     },
     "metadata": {},
     "output_type": "display_data"
    },
    {
     "data": {
      "text/plain": [
       "Stacking JK-357:   0%|          | 0/531737 [00:00<?, ?it/s]"
      ],
      "application/vnd.jupyter.widget-view+json": {
       "version_major": 2,
       "version_minor": 0,
       "model_id": "df92c28c38de49bba6c55c0902f82c95"
      }
     },
     "metadata": {},
     "output_type": "display_data"
    },
    {
     "data": {
      "text/plain": [
       "Stacking JK-358:   0%|          | 0/531891 [00:00<?, ?it/s]"
      ],
      "application/vnd.jupyter.widget-view+json": {
       "version_major": 2,
       "version_minor": 0,
       "model_id": "8ecc4aaf3b03417582ce67f44e7e6910"
      }
     },
     "metadata": {},
     "output_type": "display_data"
    },
    {
     "data": {
      "text/plain": [
       "Stacking JK-359:   0%|          | 0/531537 [00:00<?, ?it/s]"
      ],
      "application/vnd.jupyter.widget-view+json": {
       "version_major": 2,
       "version_minor": 0,
       "model_id": "9b18bd1c72a14928af860c6f585341fc"
      }
     },
     "metadata": {},
     "output_type": "display_data"
    },
    {
     "data": {
      "text/plain": [
       "Stacking JK-360:   0%|          | 0/531506 [00:00<?, ?it/s]"
      ],
      "application/vnd.jupyter.widget-view+json": {
       "version_major": 2,
       "version_minor": 0,
       "model_id": "c4afa2a708f945659f3ff3a1945176c6"
      }
     },
     "metadata": {},
     "output_type": "display_data"
    },
    {
     "data": {
      "text/plain": [
       "Stacking JK-361:   0%|          | 0/531525 [00:00<?, ?it/s]"
      ],
      "application/vnd.jupyter.widget-view+json": {
       "version_major": 2,
       "version_minor": 0,
       "model_id": "9dc3e5d700094d3180a7706d79a482f0"
      }
     },
     "metadata": {},
     "output_type": "display_data"
    },
    {
     "data": {
      "text/plain": [
       "Stacking JK-362:   0%|          | 0/531870 [00:00<?, ?it/s]"
      ],
      "application/vnd.jupyter.widget-view+json": {
       "version_major": 2,
       "version_minor": 0,
       "model_id": "f2a89020bea64402b6a2251f3acc5d20"
      }
     },
     "metadata": {},
     "output_type": "display_data"
    },
    {
     "data": {
      "text/plain": [
       "Stacking JK-363:   0%|          | 0/531685 [00:00<?, ?it/s]"
      ],
      "application/vnd.jupyter.widget-view+json": {
       "version_major": 2,
       "version_minor": 0,
       "model_id": "cea933ea067c494cbe931c71baa6fac9"
      }
     },
     "metadata": {},
     "output_type": "display_data"
    },
    {
     "data": {
      "text/plain": [
       "Stacking JK-364:   0%|          | 0/532041 [00:00<?, ?it/s]"
      ],
      "application/vnd.jupyter.widget-view+json": {
       "version_major": 2,
       "version_minor": 0,
       "model_id": "615a4a1a1f7e4b0d98e4dd061a67a8ab"
      }
     },
     "metadata": {},
     "output_type": "display_data"
    },
    {
     "data": {
      "text/plain": [
       "Stacking JK-365:   0%|          | 0/531730 [00:00<?, ?it/s]"
      ],
      "application/vnd.jupyter.widget-view+json": {
       "version_major": 2,
       "version_minor": 0,
       "model_id": "835464afee4448c7aed5e4ed1cb44718"
      }
     },
     "metadata": {},
     "output_type": "display_data"
    },
    {
     "data": {
      "text/plain": [
       "Stacking JK-366:   0%|          | 0/531744 [00:00<?, ?it/s]"
      ],
      "application/vnd.jupyter.widget-view+json": {
       "version_major": 2,
       "version_minor": 0,
       "model_id": "ea245a8ee1e2400a8280bbe32b274de4"
      }
     },
     "metadata": {},
     "output_type": "display_data"
    },
    {
     "data": {
      "text/plain": [
       "Stacking JK-367:   0%|          | 0/532191 [00:00<?, ?it/s]"
      ],
      "application/vnd.jupyter.widget-view+json": {
       "version_major": 2,
       "version_minor": 0,
       "model_id": "996c35263e2341ab8fd4d7693e5ed6f6"
      }
     },
     "metadata": {},
     "output_type": "display_data"
    },
    {
     "data": {
      "text/plain": [
       "Stacking JK-368:   0%|          | 0/532629 [00:00<?, ?it/s]"
      ],
      "application/vnd.jupyter.widget-view+json": {
       "version_major": 2,
       "version_minor": 0,
       "model_id": "72ec4dc33df543519f97f822fe17bc7a"
      }
     },
     "metadata": {},
     "output_type": "display_data"
    },
    {
     "data": {
      "text/plain": [
       "Stacking JK-393:   0%|          | 0/532171 [00:00<?, ?it/s]"
      ],
      "application/vnd.jupyter.widget-view+json": {
       "version_major": 2,
       "version_minor": 0,
       "model_id": "3097b756190244c6989a3ff4be361f73"
      }
     },
     "metadata": {},
     "output_type": "display_data"
    },
    {
     "data": {
      "text/plain": [
       "Stacking JK-394:   0%|          | 0/532256 [00:00<?, ?it/s]"
      ],
      "application/vnd.jupyter.widget-view+json": {
       "version_major": 2,
       "version_minor": 0,
       "model_id": "511963c040f04d12ba15ac25d01d3cab"
      }
     },
     "metadata": {},
     "output_type": "display_data"
    },
    {
     "data": {
      "text/plain": [
       "Stacking JK-395:   0%|          | 0/531771 [00:00<?, ?it/s]"
      ],
      "application/vnd.jupyter.widget-view+json": {
       "version_major": 2,
       "version_minor": 0,
       "model_id": "26e9bbc13388414180dd923a5a37efbe"
      }
     },
     "metadata": {},
     "output_type": "display_data"
    },
    {
     "data": {
      "text/plain": [
       "Stacking JK-396:   0%|          | 0/531914 [00:00<?, ?it/s]"
      ],
      "application/vnd.jupyter.widget-view+json": {
       "version_major": 2,
       "version_minor": 0,
       "model_id": "3c495184552844ada3eac3e8550a57bf"
      }
     },
     "metadata": {},
     "output_type": "display_data"
    },
    {
     "data": {
      "text/plain": [
       "Stacking JK-397:   0%|          | 0/531782 [00:00<?, ?it/s]"
      ],
      "application/vnd.jupyter.widget-view+json": {
       "version_major": 2,
       "version_minor": 0,
       "model_id": "97f405861e754daca9520cbf23722c77"
      }
     },
     "metadata": {},
     "output_type": "display_data"
    },
    {
     "data": {
      "text/plain": [
       "Stacking JK-398:   0%|          | 0/531639 [00:00<?, ?it/s]"
      ],
      "application/vnd.jupyter.widget-view+json": {
       "version_major": 2,
       "version_minor": 0,
       "model_id": "ad2bf41dbbe2483fa98784b32aeba1ec"
      }
     },
     "metadata": {},
     "output_type": "display_data"
    },
    {
     "data": {
      "text/plain": [
       "Stacking JK-399:   0%|          | 0/531748 [00:00<?, ?it/s]"
      ],
      "application/vnd.jupyter.widget-view+json": {
       "version_major": 2,
       "version_minor": 0,
       "model_id": "8e47f8ccd81a4fd5b3fe7e4546a1bb48"
      }
     },
     "metadata": {},
     "output_type": "display_data"
    },
    {
     "data": {
      "text/plain": [
       "Stacking JK-400:   0%|          | 0/531537 [00:00<?, ?it/s]"
      ],
      "application/vnd.jupyter.widget-view+json": {
       "version_major": 2,
       "version_minor": 0,
       "model_id": "afeb6a60906a4d348d05b9b757d5bbcf"
      }
     },
     "metadata": {},
     "output_type": "display_data"
    },
    {
     "data": {
      "text/plain": [
       "Stacking JK-401:   0%|          | 0/531709 [00:00<?, ?it/s]"
      ],
      "application/vnd.jupyter.widget-view+json": {
       "version_major": 2,
       "version_minor": 0,
       "model_id": "fe44197e64fb441d967be3afebecfa18"
      }
     },
     "metadata": {},
     "output_type": "display_data"
    },
    {
     "data": {
      "text/plain": [
       "Stacking JK-402:   0%|          | 0/531708 [00:00<?, ?it/s]"
      ],
      "application/vnd.jupyter.widget-view+json": {
       "version_major": 2,
       "version_minor": 0,
       "model_id": "9158b0bfbbfe421c83b6d0f87ff03704"
      }
     },
     "metadata": {},
     "output_type": "display_data"
    },
    {
     "data": {
      "text/plain": [
       "Stacking JK-403:   0%|          | 0/531583 [00:00<?, ?it/s]"
      ],
      "application/vnd.jupyter.widget-view+json": {
       "version_major": 2,
       "version_minor": 0,
       "model_id": "3c34242747674416bfd16919467ada38"
      }
     },
     "metadata": {},
     "output_type": "display_data"
    },
    {
     "data": {
      "text/plain": [
       "Stacking JK-404:   0%|          | 0/531914 [00:00<?, ?it/s]"
      ],
      "application/vnd.jupyter.widget-view+json": {
       "version_major": 2,
       "version_minor": 0,
       "model_id": "a5560d5a73d1443ebc7534bbc401b96d"
      }
     },
     "metadata": {},
     "output_type": "display_data"
    },
    {
     "data": {
      "text/plain": [
       "Stacking JK-405:   0%|          | 0/531787 [00:00<?, ?it/s]"
      ],
      "application/vnd.jupyter.widget-view+json": {
       "version_major": 2,
       "version_minor": 0,
       "model_id": "34d5c8245f3841faa9d08f5a85218aac"
      }
     },
     "metadata": {},
     "output_type": "display_data"
    },
    {
     "data": {
      "text/plain": [
       "Stacking JK-406:   0%|          | 0/531955 [00:00<?, ?it/s]"
      ],
      "application/vnd.jupyter.widget-view+json": {
       "version_major": 2,
       "version_minor": 0,
       "model_id": "cd4290979c6748e7baa98a495edbc9a9"
      }
     },
     "metadata": {},
     "output_type": "display_data"
    },
    {
     "data": {
      "text/plain": [
       "Stacking JK-407:   0%|          | 0/532027 [00:00<?, ?it/s]"
      ],
      "application/vnd.jupyter.widget-view+json": {
       "version_major": 2,
       "version_minor": 0,
       "model_id": "6657f8c1c6474826bcdb41ae0f2bc228"
      }
     },
     "metadata": {},
     "output_type": "display_data"
    },
    {
     "data": {
      "text/plain": [
       "Stacking JK-408:   0%|          | 0/532098 [00:00<?, ?it/s]"
      ],
      "application/vnd.jupyter.widget-view+json": {
       "version_major": 2,
       "version_minor": 0,
       "model_id": "4ac2a65a219d41d9b8bf2df0548bf466"
      }
     },
     "metadata": {},
     "output_type": "display_data"
    },
    {
     "data": {
      "text/plain": [
       "Stacking JK-433:   0%|          | 0/531985 [00:00<?, ?it/s]"
      ],
      "application/vnd.jupyter.widget-view+json": {
       "version_major": 2,
       "version_minor": 0,
       "model_id": "32a03aa7e1454efe9f06e00ea66618a3"
      }
     },
     "metadata": {},
     "output_type": "display_data"
    },
    {
     "data": {
      "text/plain": [
       "Stacking JK-434:   0%|          | 0/532172 [00:00<?, ?it/s]"
      ],
      "application/vnd.jupyter.widget-view+json": {
       "version_major": 2,
       "version_minor": 0,
       "model_id": "ab19b294b66d45fea96a1b88c3ab587a"
      }
     },
     "metadata": {},
     "output_type": "display_data"
    },
    {
     "data": {
      "text/plain": [
       "Stacking JK-435:   0%|          | 0/531565 [00:00<?, ?it/s]"
      ],
      "application/vnd.jupyter.widget-view+json": {
       "version_major": 2,
       "version_minor": 0,
       "model_id": "19f05452456047109eda8d9a2c4ec438"
      }
     },
     "metadata": {},
     "output_type": "display_data"
    },
    {
     "data": {
      "text/plain": [
       "Stacking JK-436:   0%|          | 0/532027 [00:00<?, ?it/s]"
      ],
      "application/vnd.jupyter.widget-view+json": {
       "version_major": 2,
       "version_minor": 0,
       "model_id": "3c6149e621c7437ab1eae5b0bc405ae3"
      }
     },
     "metadata": {},
     "output_type": "display_data"
    },
    {
     "data": {
      "text/plain": [
       "Stacking JK-437:   0%|          | 0/531747 [00:00<?, ?it/s]"
      ],
      "application/vnd.jupyter.widget-view+json": {
       "version_major": 2,
       "version_minor": 0,
       "model_id": "cba1a3f629aa4e43b39357b348e1d714"
      }
     },
     "metadata": {},
     "output_type": "display_data"
    },
    {
     "data": {
      "text/plain": [
       "Stacking JK-438:   0%|          | 0/531705 [00:00<?, ?it/s]"
      ],
      "application/vnd.jupyter.widget-view+json": {
       "version_major": 2,
       "version_minor": 0,
       "model_id": "0f5533b95a6946e48a184332138d2bef"
      }
     },
     "metadata": {},
     "output_type": "display_data"
    },
    {
     "data": {
      "text/plain": [
       "Stacking JK-439:   0%|          | 0/531514 [00:00<?, ?it/s]"
      ],
      "application/vnd.jupyter.widget-view+json": {
       "version_major": 2,
       "version_minor": 0,
       "model_id": "f265a5a88e5c4d67bded00931dd8ee2d"
      }
     },
     "metadata": {},
     "output_type": "display_data"
    },
    {
     "data": {
      "text/plain": [
       "Stacking JK-440:   0%|          | 0/531829 [00:00<?, ?it/s]"
      ],
      "application/vnd.jupyter.widget-view+json": {
       "version_major": 2,
       "version_minor": 0,
       "model_id": "c73de352f31143e1b7693c7feef6d17d"
      }
     },
     "metadata": {},
     "output_type": "display_data"
    },
    {
     "data": {
      "text/plain": [
       "Stacking JK-441:   0%|          | 0/531416 [00:00<?, ?it/s]"
      ],
      "application/vnd.jupyter.widget-view+json": {
       "version_major": 2,
       "version_minor": 0,
       "model_id": "b6a5401086614a578b1feb08289fc851"
      }
     },
     "metadata": {},
     "output_type": "display_data"
    },
    {
     "data": {
      "text/plain": [
       "Stacking JK-442:   0%|          | 0/531588 [00:00<?, ?it/s]"
      ],
      "application/vnd.jupyter.widget-view+json": {
       "version_major": 2,
       "version_minor": 0,
       "model_id": "6ecab441ad164912ae8a5954d8a96917"
      }
     },
     "metadata": {},
     "output_type": "display_data"
    },
    {
     "data": {
      "text/plain": [
       "Stacking JK-443:   0%|          | 0/531959 [00:00<?, ?it/s]"
      ],
      "application/vnd.jupyter.widget-view+json": {
       "version_major": 2,
       "version_minor": 0,
       "model_id": "0cf2ea95247749f68d519b5010bb1de1"
      }
     },
     "metadata": {},
     "output_type": "display_data"
    },
    {
     "data": {
      "text/plain": [
       "Stacking JK-444:   0%|          | 0/531760 [00:00<?, ?it/s]"
      ],
      "application/vnd.jupyter.widget-view+json": {
       "version_major": 2,
       "version_minor": 0,
       "model_id": "6ef30eec36d44630a636314c3d5b99c3"
      }
     },
     "metadata": {},
     "output_type": "display_data"
    },
    {
     "data": {
      "text/plain": [
       "Stacking JK-445:   0%|          | 0/531948 [00:00<?, ?it/s]"
      ],
      "application/vnd.jupyter.widget-view+json": {
       "version_major": 2,
       "version_minor": 0,
       "model_id": "8589c286c3d44ca8a570ca16e45c0b4d"
      }
     },
     "metadata": {},
     "output_type": "display_data"
    },
    {
     "data": {
      "text/plain": [
       "Stacking JK-446:   0%|          | 0/531719 [00:00<?, ?it/s]"
      ],
      "application/vnd.jupyter.widget-view+json": {
       "version_major": 2,
       "version_minor": 0,
       "model_id": "4dfa20f4ca4d496fada1f8cc3b90f404"
      }
     },
     "metadata": {},
     "output_type": "display_data"
    },
    {
     "data": {
      "text/plain": [
       "Stacking JK-447:   0%|          | 0/531939 [00:00<?, ?it/s]"
      ],
      "application/vnd.jupyter.widget-view+json": {
       "version_major": 2,
       "version_minor": 0,
       "model_id": "928d24c8d89940c38ecfc358119ddc91"
      }
     },
     "metadata": {},
     "output_type": "display_data"
    },
    {
     "data": {
      "text/plain": [
       "Stacking JK-474:   0%|          | 0/532366 [00:00<?, ?it/s]"
      ],
      "application/vnd.jupyter.widget-view+json": {
       "version_major": 2,
       "version_minor": 0,
       "model_id": "58e95df5240d4cee9e8d2d9f334980f3"
      }
     },
     "metadata": {},
     "output_type": "display_data"
    },
    {
     "data": {
      "text/plain": [
       "Stacking JK-475:   0%|          | 0/532083 [00:00<?, ?it/s]"
      ],
      "application/vnd.jupyter.widget-view+json": {
       "version_major": 2,
       "version_minor": 0,
       "model_id": "1d223e195e5643a7a68852aa4b146601"
      }
     },
     "metadata": {},
     "output_type": "display_data"
    },
    {
     "data": {
      "text/plain": [
       "Stacking JK-476:   0%|          | 0/531909 [00:00<?, ?it/s]"
      ],
      "application/vnd.jupyter.widget-view+json": {
       "version_major": 2,
       "version_minor": 0,
       "model_id": "f7a96645542b46c5a39da25e15dbbda8"
      }
     },
     "metadata": {},
     "output_type": "display_data"
    },
    {
     "data": {
      "text/plain": [
       "Stacking JK-477:   0%|          | 0/531661 [00:00<?, ?it/s]"
      ],
      "application/vnd.jupyter.widget-view+json": {
       "version_major": 2,
       "version_minor": 0,
       "model_id": "cbda699e30a64b269a8063f4ecc06385"
      }
     },
     "metadata": {},
     "output_type": "display_data"
    },
    {
     "data": {
      "text/plain": [
       "Stacking JK-478:   0%|          | 0/531974 [00:00<?, ?it/s]"
      ],
      "application/vnd.jupyter.widget-view+json": {
       "version_major": 2,
       "version_minor": 0,
       "model_id": "792207cf1c8b48198659251f97563b17"
      }
     },
     "metadata": {},
     "output_type": "display_data"
    },
    {
     "data": {
      "text/plain": [
       "Stacking JK-479:   0%|          | 0/531892 [00:00<?, ?it/s]"
      ],
      "application/vnd.jupyter.widget-view+json": {
       "version_major": 2,
       "version_minor": 0,
       "model_id": "c598ee071f8a4e63ad70f26cc8f3fb07"
      }
     },
     "metadata": {},
     "output_type": "display_data"
    },
    {
     "data": {
      "text/plain": [
       "Stacking JK-480:   0%|          | 0/531574 [00:00<?, ?it/s]"
      ],
      "application/vnd.jupyter.widget-view+json": {
       "version_major": 2,
       "version_minor": 0,
       "model_id": "f10922d3fe03469db7b13f5ea077baa8"
      }
     },
     "metadata": {},
     "output_type": "display_data"
    },
    {
     "data": {
      "text/plain": [
       "Stacking JK-481:   0%|          | 0/531487 [00:00<?, ?it/s]"
      ],
      "application/vnd.jupyter.widget-view+json": {
       "version_major": 2,
       "version_minor": 0,
       "model_id": "bd5d310ee552411a8d44393700516a71"
      }
     },
     "metadata": {},
     "output_type": "display_data"
    },
    {
     "data": {
      "text/plain": [
       "Stacking JK-482:   0%|          | 0/531964 [00:00<?, ?it/s]"
      ],
      "application/vnd.jupyter.widget-view+json": {
       "version_major": 2,
       "version_minor": 0,
       "model_id": "a6e67a4327c941d297b1b72296189e20"
      }
     },
     "metadata": {},
     "output_type": "display_data"
    },
    {
     "data": {
      "text/plain": [
       "Stacking JK-483:   0%|          | 0/531777 [00:00<?, ?it/s]"
      ],
      "application/vnd.jupyter.widget-view+json": {
       "version_major": 2,
       "version_minor": 0,
       "model_id": "3690097ac7e9484d93d3e1c34f63fa15"
      }
     },
     "metadata": {},
     "output_type": "display_data"
    },
    {
     "data": {
      "text/plain": [
       "Stacking JK-484:   0%|          | 0/531587 [00:00<?, ?it/s]"
      ],
      "application/vnd.jupyter.widget-view+json": {
       "version_major": 2,
       "version_minor": 0,
       "model_id": "db855e786fc844c0abd787bbf835b622"
      }
     },
     "metadata": {},
     "output_type": "display_data"
    },
    {
     "data": {
      "text/plain": [
       "Stacking JK-485:   0%|          | 0/531997 [00:00<?, ?it/s]"
      ],
      "application/vnd.jupyter.widget-view+json": {
       "version_major": 2,
       "version_minor": 0,
       "model_id": "5a1efcd5b7ac4a40a0d4fd42ecc4e0f1"
      }
     },
     "metadata": {},
     "output_type": "display_data"
    },
    {
     "data": {
      "text/plain": [
       "Stacking JK-486:   0%|          | 0/531867 [00:00<?, ?it/s]"
      ],
      "application/vnd.jupyter.widget-view+json": {
       "version_major": 2,
       "version_minor": 0,
       "model_id": "c46d2693f2544edba740447ac501368a"
      }
     },
     "metadata": {},
     "output_type": "display_data"
    },
    {
     "data": {
      "text/plain": [
       "Stacking JK-487:   0%|          | 0/531959 [00:00<?, ?it/s]"
      ],
      "application/vnd.jupyter.widget-view+json": {
       "version_major": 2,
       "version_minor": 0,
       "model_id": "cda1d8eaddf14d968ebffa5ade486f0e"
      }
     },
     "metadata": {},
     "output_type": "display_data"
    },
    {
     "data": {
      "text/plain": [
       "Stacking JK-514:   0%|          | 0/531954 [00:00<?, ?it/s]"
      ],
      "application/vnd.jupyter.widget-view+json": {
       "version_major": 2,
       "version_minor": 0,
       "model_id": "907afafee71343a3a989c2924f5e71a3"
      }
     },
     "metadata": {},
     "output_type": "display_data"
    },
    {
     "data": {
      "text/plain": [
       "Stacking JK-515:   0%|          | 0/531543 [00:00<?, ?it/s]"
      ],
      "application/vnd.jupyter.widget-view+json": {
       "version_major": 2,
       "version_minor": 0,
       "model_id": "562059df676f49239e0b6aa141d2b3e3"
      }
     },
     "metadata": {},
     "output_type": "display_data"
    },
    {
     "data": {
      "text/plain": [
       "Stacking JK-516:   0%|          | 0/531818 [00:00<?, ?it/s]"
      ],
      "application/vnd.jupyter.widget-view+json": {
       "version_major": 2,
       "version_minor": 0,
       "model_id": "aff1422519454d08b3b6966984fff692"
      }
     },
     "metadata": {},
     "output_type": "display_data"
    },
    {
     "data": {
      "text/plain": [
       "Stacking JK-517:   0%|          | 0/532006 [00:00<?, ?it/s]"
      ],
      "application/vnd.jupyter.widget-view+json": {
       "version_major": 2,
       "version_minor": 0,
       "model_id": "c7d57fe6b2ba4e22bbe9dc4d1e1fa595"
      }
     },
     "metadata": {},
     "output_type": "display_data"
    },
    {
     "data": {
      "text/plain": [
       "Stacking JK-518:   0%|          | 0/531653 [00:00<?, ?it/s]"
      ],
      "application/vnd.jupyter.widget-view+json": {
       "version_major": 2,
       "version_minor": 0,
       "model_id": "1e965f7a96d84d8bbab887157e1d0c4b"
      }
     },
     "metadata": {},
     "output_type": "display_data"
    },
    {
     "data": {
      "text/plain": [
       "Stacking JK-519:   0%|          | 0/531653 [00:00<?, ?it/s]"
      ],
      "application/vnd.jupyter.widget-view+json": {
       "version_major": 2,
       "version_minor": 0,
       "model_id": "fb6f629eeec046fd8de3e202651629c3"
      }
     },
     "metadata": {},
     "output_type": "display_data"
    },
    {
     "data": {
      "text/plain": [
       "Stacking JK-520:   0%|          | 0/531536 [00:00<?, ?it/s]"
      ],
      "application/vnd.jupyter.widget-view+json": {
       "version_major": 2,
       "version_minor": 0,
       "model_id": "d39233e29a2a42bcabb3e3e61be67fc6"
      }
     },
     "metadata": {},
     "output_type": "display_data"
    },
    {
     "data": {
      "text/plain": [
       "Stacking JK-521:   0%|          | 0/531964 [00:00<?, ?it/s]"
      ],
      "application/vnd.jupyter.widget-view+json": {
       "version_major": 2,
       "version_minor": 0,
       "model_id": "97f75296fd1944468da471d5b5a506e4"
      }
     },
     "metadata": {},
     "output_type": "display_data"
    },
    {
     "data": {
      "text/plain": [
       "Stacking JK-522:   0%|          | 0/531380 [00:00<?, ?it/s]"
      ],
      "application/vnd.jupyter.widget-view+json": {
       "version_major": 2,
       "version_minor": 0,
       "model_id": "cd564fcc320e4235a6f03bfac6098aea"
      }
     },
     "metadata": {},
     "output_type": "display_data"
    },
    {
     "data": {
      "text/plain": [
       "Stacking JK-523:   0%|          | 0/531870 [00:00<?, ?it/s]"
      ],
      "application/vnd.jupyter.widget-view+json": {
       "version_major": 2,
       "version_minor": 0,
       "model_id": "77d686a63e344a1bae5b66fe94e082ed"
      }
     },
     "metadata": {},
     "output_type": "display_data"
    },
    {
     "data": {
      "text/plain": [
       "Stacking JK-524:   0%|          | 0/531475 [00:00<?, ?it/s]"
      ],
      "application/vnd.jupyter.widget-view+json": {
       "version_major": 2,
       "version_minor": 0,
       "model_id": "df68e56bc316402d8997958ccbae0f1e"
      }
     },
     "metadata": {},
     "output_type": "display_data"
    },
    {
     "data": {
      "text/plain": [
       "Stacking JK-525:   0%|          | 0/531565 [00:00<?, ?it/s]"
      ],
      "application/vnd.jupyter.widget-view+json": {
       "version_major": 2,
       "version_minor": 0,
       "model_id": "fd2e5e0612f84b148d2d333172215861"
      }
     },
     "metadata": {},
     "output_type": "display_data"
    },
    {
     "data": {
      "text/plain": [
       "Stacking JK-526:   0%|          | 0/531916 [00:00<?, ?it/s]"
      ],
      "application/vnd.jupyter.widget-view+json": {
       "version_major": 2,
       "version_minor": 0,
       "model_id": "5548b19da2884d8ea3d8b3cf8ccf6d09"
      }
     },
     "metadata": {},
     "output_type": "display_data"
    },
    {
     "data": {
      "text/plain": [
       "Stacking JK-554:   0%|          | 0/531656 [00:00<?, ?it/s]"
      ],
      "application/vnd.jupyter.widget-view+json": {
       "version_major": 2,
       "version_minor": 0,
       "model_id": "e4a01839c37740e496cbf11b4fccef6c"
      }
     },
     "metadata": {},
     "output_type": "display_data"
    },
    {
     "data": {
      "text/plain": [
       "Stacking JK-555:   0%|          | 0/531878 [00:00<?, ?it/s]"
      ],
      "application/vnd.jupyter.widget-view+json": {
       "version_major": 2,
       "version_minor": 0,
       "model_id": "656724d6073e4c26ad8a790d9d28bcc1"
      }
     },
     "metadata": {},
     "output_type": "display_data"
    },
    {
     "data": {
      "text/plain": [
       "Stacking JK-556:   0%|          | 0/531880 [00:00<?, ?it/s]"
      ],
      "application/vnd.jupyter.widget-view+json": {
       "version_major": 2,
       "version_minor": 0,
       "model_id": "232962efcc794ecbb7ae2a782ce54ad2"
      }
     },
     "metadata": {},
     "output_type": "display_data"
    },
    {
     "data": {
      "text/plain": [
       "Stacking JK-557:   0%|          | 0/532343 [00:00<?, ?it/s]"
      ],
      "application/vnd.jupyter.widget-view+json": {
       "version_major": 2,
       "version_minor": 0,
       "model_id": "bf07c939917a421c81fb301fbcd9064e"
      }
     },
     "metadata": {},
     "output_type": "display_data"
    },
    {
     "data": {
      "text/plain": [
       "Stacking JK-558:   0%|          | 0/532235 [00:00<?, ?it/s]"
      ],
      "application/vnd.jupyter.widget-view+json": {
       "version_major": 2,
       "version_minor": 0,
       "model_id": "3324999ebe3d44edbba3b4d06b6758bc"
      }
     },
     "metadata": {},
     "output_type": "display_data"
    },
    {
     "data": {
      "text/plain": [
       "Stacking JK-560:   0%|          | 0/531975 [00:00<?, ?it/s]"
      ],
      "application/vnd.jupyter.widget-view+json": {
       "version_major": 2,
       "version_minor": 0,
       "model_id": "6104385bed9547939e11de086deb1775"
      }
     },
     "metadata": {},
     "output_type": "display_data"
    },
    {
     "data": {
      "text/plain": [
       "Stacking JK-561:   0%|          | 0/531712 [00:00<?, ?it/s]"
      ],
      "application/vnd.jupyter.widget-view+json": {
       "version_major": 2,
       "version_minor": 0,
       "model_id": "45f71cb4b8be47f78d59b1c1ffd091a3"
      }
     },
     "metadata": {},
     "output_type": "display_data"
    },
    {
     "data": {
      "text/plain": [
       "Stacking JK-562:   0%|          | 0/531976 [00:00<?, ?it/s]"
      ],
      "application/vnd.jupyter.widget-view+json": {
       "version_major": 2,
       "version_minor": 0,
       "model_id": "bd2d3952391a4c2c943751d47c550dd7"
      }
     },
     "metadata": {},
     "output_type": "display_data"
    },
    {
     "data": {
      "text/plain": [
       "Stacking JK-563:   0%|          | 0/531611 [00:00<?, ?it/s]"
      ],
      "application/vnd.jupyter.widget-view+json": {
       "version_major": 2,
       "version_minor": 0,
       "model_id": "e15101faf2b0450a9accf356569a25a0"
      }
     },
     "metadata": {},
     "output_type": "display_data"
    },
    {
     "data": {
      "text/plain": [
       "Stacking JK-564:   0%|          | 0/531908 [00:00<?, ?it/s]"
      ],
      "application/vnd.jupyter.widget-view+json": {
       "version_major": 2,
       "version_minor": 0,
       "model_id": "8811b52e7be24964ae5f576a135cd8fa"
      }
     },
     "metadata": {},
     "output_type": "display_data"
    },
    {
     "data": {
      "text/plain": [
       "Stacking JK-565:   0%|          | 0/532093 [00:00<?, ?it/s]"
      ],
      "application/vnd.jupyter.widget-view+json": {
       "version_major": 2,
       "version_minor": 0,
       "model_id": "4c50c6c9ba64459697d374112ae7adac"
      }
     },
     "metadata": {},
     "output_type": "display_data"
    },
    {
     "data": {
      "text/plain": [
       "Stacking JK-566:   0%|          | 0/532219 [00:00<?, ?it/s]"
      ],
      "application/vnd.jupyter.widget-view+json": {
       "version_major": 2,
       "version_minor": 0,
       "model_id": "bc9e865dcf804e58a32db75d29f2cd4f"
      }
     },
     "metadata": {},
     "output_type": "display_data"
    },
    {
     "data": {
      "text/plain": [
       "Stacking JK-595:   0%|          | 0/531934 [00:00<?, ?it/s]"
      ],
      "application/vnd.jupyter.widget-view+json": {
       "version_major": 2,
       "version_minor": 0,
       "model_id": "ae1c1ec39aee4338b99d805b40d69b01"
      }
     },
     "metadata": {},
     "output_type": "display_data"
    },
    {
     "data": {
      "text/plain": [
       "Stacking JK-596:   0%|          | 0/532185 [00:00<?, ?it/s]"
      ],
      "application/vnd.jupyter.widget-view+json": {
       "version_major": 2,
       "version_minor": 0,
       "model_id": "ac9d5abe31884e0c8f96d456c4c5cd65"
      }
     },
     "metadata": {},
     "output_type": "display_data"
    },
    {
     "data": {
      "text/plain": [
       "Stacking JK-597:   0%|          | 0/532237 [00:00<?, ?it/s]"
      ],
      "application/vnd.jupyter.widget-view+json": {
       "version_major": 2,
       "version_minor": 0,
       "model_id": "d27ff8a2825a4b94a8b72ee4b1bc9d13"
      }
     },
     "metadata": {},
     "output_type": "display_data"
    },
    {
     "data": {
      "text/plain": [
       "Stacking JK-598:   0%|          | 0/532290 [00:00<?, ?it/s]"
      ],
      "application/vnd.jupyter.widget-view+json": {
       "version_major": 2,
       "version_minor": 0,
       "model_id": "97ddb977c6034f9c870cb7b7e9f06582"
      }
     },
     "metadata": {},
     "output_type": "display_data"
    },
    {
     "data": {
      "text/plain": [
       "Stacking JK-599:   0%|          | 0/532408 [00:00<?, ?it/s]"
      ],
      "application/vnd.jupyter.widget-view+json": {
       "version_major": 2,
       "version_minor": 0,
       "model_id": "ec5b2c41a60e4e31aa892cffe8a2db7c"
      }
     },
     "metadata": {},
     "output_type": "display_data"
    },
    {
     "data": {
      "text/plain": [
       "Stacking JK-600:   0%|          | 0/532579 [00:00<?, ?it/s]"
      ],
      "application/vnd.jupyter.widget-view+json": {
       "version_major": 2,
       "version_minor": 0,
       "model_id": "10c1111cda624226b6007d8aae842206"
      }
     },
     "metadata": {},
     "output_type": "display_data"
    },
    {
     "data": {
      "text/plain": [
       "Stacking JK-601:   0%|          | 0/531922 [00:00<?, ?it/s]"
      ],
      "application/vnd.jupyter.widget-view+json": {
       "version_major": 2,
       "version_minor": 0,
       "model_id": "0da1cc0010a1490fb6f0cc1b92f2ea94"
      }
     },
     "metadata": {},
     "output_type": "display_data"
    },
    {
     "data": {
      "text/plain": [
       "Stacking JK-602:   0%|          | 0/531558 [00:00<?, ?it/s]"
      ],
      "application/vnd.jupyter.widget-view+json": {
       "version_major": 2,
       "version_minor": 0,
       "model_id": "04dbc32dacea42ec80dfa7954184f03f"
      }
     },
     "metadata": {},
     "output_type": "display_data"
    },
    {
     "data": {
      "text/plain": [
       "Stacking JK-603:   0%|          | 0/531642 [00:00<?, ?it/s]"
      ],
      "application/vnd.jupyter.widget-view+json": {
       "version_major": 2,
       "version_minor": 0,
       "model_id": "d265c2d925714d709d8c344ba7e08b7d"
      }
     },
     "metadata": {},
     "output_type": "display_data"
    },
    {
     "data": {
      "text/plain": [
       "Stacking JK-604:   0%|          | 0/531585 [00:00<?, ?it/s]"
      ],
      "application/vnd.jupyter.widget-view+json": {
       "version_major": 2,
       "version_minor": 0,
       "model_id": "02b91057a25e4339a78dc4d37e533e56"
      }
     },
     "metadata": {},
     "output_type": "display_data"
    },
    {
     "data": {
      "text/plain": [
       "Stacking JK-605:   0%|          | 0/532779 [00:00<?, ?it/s]"
      ],
      "application/vnd.jupyter.widget-view+json": {
       "version_major": 2,
       "version_minor": 0,
       "model_id": "a171f0ffbf2b4cafb08dcf9d5061ac1f"
      }
     },
     "metadata": {},
     "output_type": "display_data"
    },
    {
     "data": {
      "text/plain": [
       "Stacking Random:   0%|          | 0/3011334 [00:00<?, ?it/s]"
      ],
      "application/vnd.jupyter.widget-view+json": {
       "version_major": 2,
       "version_minor": 0,
       "model_id": "6ca5391ac30a47cebf6243b8705d9200"
      }
     },
     "metadata": {},
     "output_type": "display_data"
    }
   ],
   "execution_count": 50
  },
  {
   "metadata": {
    "ExecuteTime": {
     "end_time": "2025-10-19T10:39:59.527498Z",
     "start_time": "2025-10-19T10:39:59.311474Z"
    }
   },
   "cell_type": "code",
   "source": [
    "kappa_sym = symmetrize_map(kappa_sub)\n",
    "plot_map(kappa_sym, \"Symmetrized κ Map\", cmap='viridis')"
   ],
   "id": "e7fc953093988edf",
   "outputs": [
    {
     "name": "stderr",
     "output_type": "stream",
     "text": [
      "/Users/carolinewu/PycharmProjects/astrophysics/helper.py:113: RuntimeWarning: invalid value encountered in divide\n",
      "  kappa_avg = np.bincount(r_flat, weights=kappa_flat) / np.bincount(r_flat)\n"
     ]
    },
    {
     "data": {
      "text/plain": [
       "<Figure size 640x480 with 2 Axes>"
      ],
      "image/png": "[encoded data removed]"
     },
     "metadata": {},
     "output_type": "display_data"
    }
   ],
   "execution_count": 51
  },
  {
   "metadata": {
    "ExecuteTime": {
     "end_time": "2025-10-19T10:40:00.518011Z",
     "start_time": "2025-10-19T10:40:00.308157Z"
    }
   },
   "cell_type": "code",
   "source": "pd.DataFrame(kappa_sym).to_csv(r\"data/kappa_control_original.csv\", index=True)",
   "id": "959d3226a3b90a5d",
   "outputs": [],
   "execution_count": 52
  },
  {
   "cell_type": "code",
   "id": "9da6d8d8-868c-45bd-b101-e97092efd37a",
   "metadata": {
    "ExecuteTime": {
     "end_time": "2025-10-19T10:40:01.091173Z",
     "start_time": "2025-10-19T10:40:00.540926Z"
    }
   },
   "source": [
    "# --- Plots ---\n",
    "plot_map(kappa_real, \"κ Map (Real)\")"
   ],
   "outputs": [
    {
     "data": {
      "text/plain": [
       "<Figure size 640x480 with 2 Axes>"
      ],
      "image/png": "[encoded data removed]"
     },
     "metadata": {},
     "output_type": "display_data"
    }
   ],
   "execution_count": 53
  },
  {
   "cell_type": "code",
   "id": "6ac4358a-8eae-4583-8e7b-5d5fe97680c3",
   "metadata": {
    "ExecuteTime": {
     "end_time": "2025-10-19T10:40:01.169293Z",
     "start_time": "2025-10-19T10:40:01.100514Z"
    }
   },
   "source": [
    "plot_map(kappa_rand, \"κ Map (Random 5%)\")"
   ],
   "outputs": [
    {
     "data": {
      "text/plain": [
       "<Figure size 640x480 with 2 Axes>"
      ],
      "image/png": "[encoded data removed]"
     },
     "metadata": {},
     "output_type": "display_data"
    }
   ],
   "execution_count": 54
  },
  {
   "cell_type": "code",
   "id": "53ed83cc-12a5-436b-b75c-6cbe4a4939ae",
   "metadata": {
    "ExecuteTime": {
     "end_time": "2025-10-19T10:40:01.277898Z",
     "start_time": "2025-10-19T10:40:01.206430Z"
    }
   },
   "source": [
    "plot_map(kappa_sub, \"κ Map (Real − Random)\")"
   ],
   "outputs": [
    {
     "data": {
      "text/plain": [
       "<Figure size 640x480 with 2 Axes>"
      ],
      "image/png": "[encoded data removed]"
     },
     "metadata": {},
     "output_type": "display_data"
    }
   ],
   "execution_count": 55
  },
  {
   "cell_type": "code",
   "id": "d82f3fea-423d-4056-959f-4d9b24da2505",
   "metadata": {
    "ExecuteTime": {
     "end_time": "2025-10-19T10:40:01.362425Z",
     "start_time": "2025-10-19T10:40:01.360799Z"
    }
   },
   "source": "# plot_map(kappa_smooth, \"Smoothed κ Map\", cmap='viridis')",
   "outputs": [],
   "execution_count": 56
  },
  {
   "cell_type": "code",
   "id": "6ec012aa-5d81-46d0-97ce-c2f8d268aa79",
   "metadata": {
    "ExecuteTime": {
     "end_time": "2025-10-19T10:40:01.501600Z",
     "start_time": "2025-10-19T10:40:01.438223Z"
    }
   },
   "source": "plot_map(sigma_real, \"Error Map (σ)\", cmap='plasma', label='σ(κ)')",
   "outputs": [
    {
     "data": {
      "text/plain": [
       "<Figure size 640x480 with 2 Axes>"
      ],
      "image/png": "[encoded data removed]"
     },
     "metadata": {},
     "output_type": "display_data"
    }
   ],
   "execution_count": 57
  },
  {
   "cell_type": "code",
   "id": "0ec98516-f667-4630-8ea0-41bd49655014",
   "metadata": {
    "ExecuteTime": {
     "end_time": "2025-10-19T10:40:01.615853Z",
     "start_time": "2025-10-19T10:40:01.553887Z"
    }
   },
   "source": [
    "plot_map(sn_real, \"Signal-to-Noise Map\", cmap='coolwarm', label='⟨κ⟩ / σ')"
   ],
   "outputs": [
    {
     "data": {
      "text/plain": [
       "<Figure size 640x480 with 2 Axes>"
      ],
      "image/png": "[encoded data removed]"
     },
     "metadata": {},
     "output_type": "display_data"
    }
   ],
   "execution_count": 58
  },
  {
   "cell_type": "code",
   "id": "356ba32d-e0fa-47e0-80d8-ad01cb102480",
   "metadata": {
    "ExecuteTime": {
     "end_time": "2025-10-19T10:40:01.689351Z",
     "start_time": "2025-10-19T10:40:01.638771Z"
    }
   },
   "source": [
    "profile, errs = radial_profile(kappa_sub, sigma_real, \"Radial Profile (Real − Random)\", zoom=70)\n",
    "np.save(\"old_sub_radial.npy\", profile)"
   ],
   "outputs": [
    {
     "data": {
      "text/plain": [
       "<Figure size 640x480 with 1 Axes>"
      ],
      "image/png": "[encoded data removed]"
     },
     "metadata": {},
     "output_type": "display_data"
    }
   ],
   "execution_count": 59
  },
  {
   "metadata": {
    "ExecuteTime": {
     "end_time": "2025-10-19T10:40:01.757628Z",
     "start_time": "2025-10-19T10:40:01.709290Z"
    }
   },
   "cell_type": "code",
   "source": [
    "profile, errs = radial_profile(kappa_real, sigma_real, \"Radial Profile (Real Only)\", zoom=70)\n",
    "np.save(\"old_real_radial.npy\", profile)"
   ],
   "id": "895110be61454de3",
   "outputs": [
    {
     "data": {
      "text/plain": [
       "<Figure size 640x480 with 1 Axes>"
      ],
      "image/png": "[encoded data removed]"
     },
     "metadata": {},
     "output_type": "display_data"
    }
   ],
   "execution_count": 60
  },
  {
   "cell_type": "code",
   "id": "87528b5c-5d81-4263-8471-411a4de8b225",
   "metadata": {
    "ExecuteTime": {
     "end_time": "2025-10-19T10:40:01.887386Z",
     "start_time": "2025-10-19T10:40:01.832314Z"
    }
   },
   "source": [
    "import numpy as np\n",
    "import matplotlib.pyplot as plt\n",
    "\n",
    "# Use your existing stacked maps here:\n",
    "kappa_mean = kappa_sub       # 2D array, shape (grid_size, grid_size)\n",
    "kappa_sigma = sigma_real     # 2D array, same shape\n",
    "\n",
    "grid_size = kappa_mean.shape[0]  # e.g. 100\n",
    "box_size_hmpc = 100  # your box size in h^-1 Mpc\n",
    "\n",
    "# Create coordinate grids in Mpc\n",
    "x = np.linspace(-box_size_hmpc/2, box_size_hmpc/2, grid_size)\n",
    "y = np.linspace(-box_size_hmpc/2, box_size_hmpc/2, grid_size)\n",
    "X, Y = np.meshgrid(x, y)\n",
    "\n",
    "# Compute radius from center in Mpc\n",
    "R = np.sqrt(X**2 + Y**2)\n",
    "\n",
    "# Flatten arrays for binning\n",
    "r_flat = R.ravel()\n",
    "signal_flat = kappa_mean.ravel()\n",
    "sigma_flat = kappa_sigma.ravel()\n",
    "\n",
    "# Define radial bins (e.g., 20 bins up to 50 Mpc)\n",
    "bin_edges = np.linspace(0, box_size_hmpc/2, 20)\n",
    "bin_centers = 0.5 * (bin_edges[1:] + bin_edges[:-1])\n",
    "\n",
    "# Digitize radii to bins\n",
    "inds = np.digitize(r_flat, bin_edges)\n",
    "\n",
    "# Compute S/N per bin\n",
    "sn_profile = []\n",
    "for i in range(1, len(bin_edges)):\n",
    "    in_bin = (inds == i)\n",
    "    if np.any(in_bin):\n",
    "        mean_signal = np.mean(signal_flat[in_bin])\n",
    "        mean_sigma = np.sqrt(np.mean(sigma_flat[in_bin]**2))\n",
    "        sn_profile.append(mean_signal / mean_sigma if mean_sigma > 0 else 0)\n",
    "    else:\n",
    "        sn_profile.append(0)\n",
    "\n",
    "# Plot radial S/N profile\n",
    "plt.figure(figsize=(7,4))\n",
    "plt.plot(bin_centers, sn_profile, marker='o')\n",
    "plt.xlabel('Radius (h⁻¹ Mpc)')\n",
    "plt.ylabel('Signal-to-Noise (S/N)')\n",
    "plt.title('Radial Signal-to-Noise Profile')\n",
    "plt.grid(True)\n",
    "plt.tight_layout()\n",
    "plt.show()"
   ],
   "outputs": [
    {
     "data": {
      "text/plain": [
       "<Figure size 700x400 with 1 Axes>"
      ],
      "image/png": "[encoded data removed]"
     },
     "metadata": {},
     "output_type": "display_data"
    }
   ],
   "execution_count": 61
  },
  {
   "cell_type": "code",
   "id": "5a906f40-b5c5-4388-8268-f6b43d6399e9",
   "metadata": {
    "ExecuteTime": {
     "end_time": "2025-10-19T10:40:01.953247Z",
     "start_time": "2025-10-19T10:40:01.951054Z"
    }
   },
   "source": [
    "# --- Diagnostics ---\n",
    "print(\"Diagnostics:\")\n",
    "print(f\"κ min: {np.min(kappa_sub):.4g}, max: {np.max(kappa_sub):.4g}\")\n",
    "print(f\"σ min: {np.min(sigma_real):.4g}, max: {np.max(sigma_real):.4g}\")\n",
    "print(f\"S/N min: {np.min(sn_real):.4g}, max: {np.max(sn_real):.4g}\")"
   ],
   "outputs": [
    {
     "name": "stdout",
     "output_type": "stream",
     "text": [
      "Diagnostics:\n",
      "κ min: -0.002052, max: 0.006557\n",
      "σ min: 0.0005935, max: 0.0008485\n",
      "S/N min: -2.292, max: 10.25\n"
     ]
    }
   ],
   "execution_count": 62
  }
 ],
 "metadata": {
  "kernelspec": {
   "display_name": "Python 3 (ipykernel)",
   "language": "python",
   "name": "python3"
  },
  "language_info": {
   "codemirror_mode": {
    "name": "ipython",
    "version": 3
   },
   "file_extension": ".py",
   "mimetype": "text/x-python",
   "name": "python",
   "nbconvert_exporter": "python",
   "pygments_lexer": "ipython3",
   "version": "3.11.13"
  }
 },
 "nbformat": 4,
 "nbformat_minor": 5
}
