{
 "cells": [
  {
   "metadata": {},
   "cell_type": "markdown",
   "source": "### GALAXY PAIRS CATALOGS",
   "id": "c34f28f2032c3ecd"
  },
  {
   "cell_type": "code",
   "id": "2eb5e21b-7714-48ca-8895-c159e39c8a46",
   "metadata": {
    "ExecuteTime": {
     "end_time": "2025-08-15T22:38:08.744005Z",
     "start_time": "2025-08-15T22:38:08.643800Z"
    }
   },
   "source": [
    "import numpy as np\n",
    "import pandas as pd\n",
    "from astropy.io import fits\n",
    "from astropy.cosmology import Planck18 as cosmo\n",
    "from tqdm.notebook import tqdm\n",
    "from helper import preprocess_catalog_galactic\n",
    "from helper import load_catalog"
   ],
   "outputs": [],
   "execution_count": 86
  },
  {
   "cell_type": "code",
   "id": "690b1607-e520-4437-b0e2-890ff21a698f",
   "metadata": {
    "ExecuteTime": {
     "end_time": "2025-08-15T22:38:08.906158Z",
     "start_time": "2025-08-15T22:38:08.899615Z"
    }
   },
   "source": [
    "# --- Settings ---\n",
    "catalog, region = \"LRG\", \"NGC\"\n",
    "real_file = f\"data/eBOSS/eBOSS_{catalog}_clustering_data-{region}-vDR16.fits\"\n",
    "rand_file = f\"data/eBOSS/eBOSS_LRG_clustering_random-{region}-vDR16.fits\"\n",
    "alm_file = \"data/COM_Lensing_4096_R3.00/MV/dat_klm.fits\"\n",
    "mask_file = \"data/COM_Lensing_4096_R3.00/mask.fits\""
   ],
   "outputs": [],
   "execution_count": 88
  },
  {
   "metadata": {
    "ExecuteTime": {
     "end_time": "2025-08-15T22:38:09.051054Z",
     "start_time": "2025-08-15T22:38:09.043504Z"
    }
   },
   "cell_type": "code",
   "source": [
    "def compute_angle_cosine(l1, b1, l2, b2):\n",
    "    \"\"\"\n",
    "    Compute cosine of angle θ between two directions (in degrees) in Galactic coordinates.\n",
    "    \"\"\"\n",
    "    l1_rad, b1_rad = np.radians(l1), np.radians(b1)\n",
    "    l2_rad, b2_rad = np.radians(l2), np.radians(b2)\n",
    "\n",
    "    cos_theta = (\n",
    "        np.cos(b1_rad) * np.cos(l1_rad) * np.cos(b2_rad) * np.cos(l2_rad) +\n",
    "        np.cos(b1_rad) * np.sin(l1_rad) * np.cos(b2_rad) * np.sin(l2_rad) +\n",
    "        np.sin(b1_rad) * np.sin(b2_rad)\n",
    "    )\n",
    "    return cos_theta\n",
    "\n",
    "def build_galaxy_pair_catalog(data, weights, r_par_max=5, r_perp_min=4, r_perp_max=6):\n",
    "    \"\"\"\n",
    "    Build galaxy pair catalog based on parallel and perpendicular distance criteria.\n",
    "    Returns a list of dictionaries.\n",
    "    \"\"\"\n",
    "    l, b, D, data_filtered = preprocess_catalog_galactic(data)\n",
    "    weights = weights[:len(data_filtered)]\n",
    "    z = data_filtered['Z']\n",
    "\n",
    "    pairs = []\n",
    "\n",
    "    for i in tqdm(range(len(data_filtered)), desc=\"Building Pair Catalog\"):\n",
    "        for j in range(i + 1, len(data_filtered)):\n",
    "            Dc1, Dc2 = D[i], D[j]\n",
    "            r_par = np.abs(Dc2 - Dc1)  # cos(θ) ≈ 1\n",
    "\n",
    "            if r_par > r_par_max:\n",
    "                continue\n",
    "\n",
    "            cos_theta = compute_angle_cosine(l[i], b[i], l[j], b[j])\n",
    "            theta = np.arccos(np.clip(cos_theta, -1, 1))\n",
    "\n",
    "            r_perp = ((Dc2 + Dc1) / 2.0) * theta  # correct small-angle formula in Mpc/h\n",
    "\n",
    "            if r_perp_min <= r_perp <= r_perp_max:\n",
    "                Dmid = cosmo.comoving_distance((z[i] + z[j]) / 2).value * cosmo.h  # Mpc/h\n",
    "                pairs.append({\n",
    "                    'l1': l[i], 'b1': b[i], 'z1': z[i], 'w1': weights[i], 'Dc1': Dc1, 'LRG_ID1': data_filtered[i]['LRG_ID'],\n",
    "                    'l2': l[j], 'b2': b[j], 'z2': z[j], 'w2': weights[j], 'Dc2': Dc2, 'LRG_ID2': data_filtered[j]['LRG_ID'],\n",
    "                    'Dmid': Dmid\n",
    "                })\n",
    "\n",
    "    pairs = pd.DataFrame(pairs)\n",
    "    pairs.to_csv(\"data/galaxy_pairs_catalog.csv\", index=False)\n",
    "    return pairs"
   ],
   "id": "3c4c76300e148570",
   "outputs": [],
   "execution_count": 91
  },
  {
   "cell_type": "code",
   "id": "3c4d6830-3e98-4a81-b878-7d89a4e85f43",
   "metadata": {
    "ExecuteTime": {
     "end_time": "2025-08-15T23:36:06.652579Z",
     "start_time": "2025-08-15T22:38:09.093737Z"
    }
   },
   "source": [
    "# --- Run all ---\n",
    "data_real, w_real = load_catalog(real_file, weights=True)\n",
    "# data_rand, w_rand = load_catalog(rand_file, random_fraction=0.10)\n",
    "\n",
    "# Build galaxy pair catalog\n",
    "pair_catalog = build_galaxy_pair_catalog(data_real, w_real)\n",
    "print(f\"Total valid pairs: {len(pair_catalog)}\")\n",
    "\n",
    "# Jackknife real galaxies\n",
    "# kappa_real, sigma_real = jackknife_stack_healpix(data_real, w_real, data_rand, nside=10)\n",
    "# sn_real = np.zeros_like(kappa_real)\n",
    "# valid = sigma_real > 0\n",
    "# sn_real[valid] = kappa_real[valid] / sigma_real[valid]\n",
    "# kappa_rand, sigma_rand, sn_rand = stack_kappa(data_rand, w_rand, \"Random\")\n",
    "# kappa_sub = kappa_real - kappa_rand\n",
    "# kappa_smooth = gaussian_filter(kappa_sub, sigma=2)"
   ],
   "outputs": [
    {
     "data": {
      "text/plain": [
       "Building Pair Catalog:   0%|          | 0/107500 [00:00<?, ?it/s]"
      ],
      "application/vnd.jupyter.widget-view+json": {
       "version_major": 2,
       "version_minor": 0,
       "model_id": "7389446e2bf54537a1f836a313d274a3"
      }
     },
     "metadata": {},
     "output_type": "display_data"
    },
    {
     "name": "stdout",
     "output_type": "stream",
     "text": [
      "Total valid pairs: 6549\n"
     ]
    }
   ],
   "execution_count": 92
  },
  {
   "metadata": {
    "ExecuteTime": {
     "end_time": "2025-08-15T23:36:06.800658Z",
     "start_time": "2025-08-15T23:36:06.798143Z"
    }
   },
   "cell_type": "code",
   "source": "",
   "id": "e73c98073f5f0d2f",
   "outputs": [],
   "execution_count": null
  }
 ],
 "metadata": {
  "kernelspec": {
   "display_name": "Python 3 (ipykernel)",
   "language": "python",
   "name": "python3"
  },
  "language_info": {
   "codemirror_mode": {
    "name": "ipython",
    "version": 3
   },
   "file_extension": ".py",
   "mimetype": "text/x-python",
   "name": "python",
   "nbconvert_exporter": "python",
   "pygments_lexer": "ipython3",
   "version": "3.11.13"
  }
 },
 "nbformat": 4,
 "nbformat_minor": 5
}
