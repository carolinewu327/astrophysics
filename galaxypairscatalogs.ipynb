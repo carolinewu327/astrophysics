{
 "cells": [
  {
   "metadata": {},
   "cell_type": "markdown",
   "source": "### GALAXY PAIRS CATALOGS",
   "id": "c34f28f2032c3ecd"
  },
  {
   "cell_type": "code",
   "id": "2eb5e21b-7714-48ca-8895-c159e39c8a46",
   "metadata": {
    "ExecuteTime": {
     "end_time": "2025-08-10T23:54:35.349435Z",
     "start_time": "2025-08-10T23:54:35.346121Z"
    }
   },
   "source": [
    "import numpy as np\n",
    "import matplotlib.pyplot as plt\n",
    "import pandas as pd\n",
    "from astropy.io import fits\n",
    "from astropy.cosmology import Planck18 as cosmo\n",
    "from astropy.coordinates import SkyCoord\n",
    "import astropy.units as u\n",
    "import healpy as hp\n",
    "from matplotlib import rc_params_from_file\n",
    "from tqdm.notebook import tqdm\n",
    "from scipy.ndimage import gaussian_filter"
   ],
   "outputs": [],
   "execution_count": 77
  },
  {
   "metadata": {
    "ExecuteTime": {
     "end_time": "2025-08-10T23:54:35.380711Z",
     "start_time": "2025-08-10T23:54:35.377116Z"
    }
   },
   "cell_type": "code",
   "source": [
    "import numpy as np\n",
    "\n",
    "def fast_icrs_to_galactic(ra_deg, dec_deg):\n",
    "    \"\"\"\n",
    "    Convert ICRS coordinates (RA, Dec in degrees) to Galactic (l, b in degrees)\n",
    "    without using astropy. Based on standard transformation matrix.\n",
    "\n",
    "    Parameters:\n",
    "        ra_deg : float or array-like\n",
    "            Right Ascension in degrees\n",
    "        dec_deg : float or array-like\n",
    "            Declination in degrees\n",
    "\n",
    "    Returns:\n",
    "        l_deg, b_deg : tuple of arrays\n",
    "            Galactic longitude and latitude in degrees\n",
    "    \"\"\"\n",
    "    # Convert to radians\n",
    "    ra = np.radians(ra_deg)\n",
    "    dec = np.radians(dec_deg)\n",
    "\n",
    "    # Convert spherical to Cartesian\n",
    "    x = np.cos(dec) * np.cos(ra)\n",
    "    y = np.cos(dec) * np.sin(ra)\n",
    "    z = np.sin(dec)\n",
    "\n",
    "    # Rotation matrix from ICRS to Galactic\n",
    "    R = np.array([\n",
    "        [-0.0548755604, -0.8734370902, -0.4838350155],\n",
    "        [ 0.4941094279, -0.4448296300,  0.7469822445],\n",
    "        [-0.8676661490, -0.1980763734,  0.4559837762]\n",
    "    ])\n",
    "\n",
    "    # Apply rotation\n",
    "    xg, yg, zg = np.dot(R, np.array([x, y, z]))\n",
    "\n",
    "    # Convert back to spherical\n",
    "    b_rad = np.arcsin(zg)\n",
    "    l_rad = np.arctan2(yg, xg)\n",
    "\n",
    "    # Convert to degrees\n",
    "    l_deg = np.degrees(l_rad) % 360\n",
    "    b_deg = np.degrees(b_rad)\n",
    "\n",
    "    return l_deg, b_deg"
   ],
   "id": "5345e5a06de1c806",
   "outputs": [],
   "execution_count": 78
  },
  {
   "cell_type": "code",
   "id": "690b1607-e520-4437-b0e2-890ff21a698f",
   "metadata": {
    "ExecuteTime": {
     "end_time": "2025-08-10T23:54:35.410039Z",
     "start_time": "2025-08-10T23:54:35.408261Z"
    }
   },
   "source": [
    "# --- Settings ---\n",
    "catalog, region = \"LRG\", \"NGC\"\n",
    "real_file = f\"data/eBOSS/eBOSS_{catalog}_clustering_data-{region}-vDR16.fits\"\n",
    "rand_file = f\"data/eBOSS/eBOSS_LRG_clustering_random-{region}-vDR16.fits\"\n",
    "alm_file = \"data/COM_Lensing_4096_R3.00/MV/dat_klm.fits\"\n",
    "mask_file = \"data/COM_Lensing_4096_R3.00/mask.fits\""
   ],
   "outputs": [],
   "execution_count": 79
  },
  {
   "cell_type": "code",
   "id": "0aeaaeb3-d8a7-4631-8da3-ed5466844ab9",
   "metadata": {
    "ExecuteTime": {
     "end_time": "2025-08-10T23:54:35.435290Z",
     "start_time": "2025-08-10T23:54:35.431640Z"
    }
   },
   "source": [
    "# --- Catalog loader ---\n",
    "def load_catalog(path, weights=True, random_fraction=None):\n",
    "    with fits.open(path) as hd:\n",
    "        cat = hd[1].data\n",
    "    cat = cat[(cat['Z'] > 0) & np.isfinite(cat['RA']) & np.isfinite(cat['DEC'])]\n",
    "    if random_fraction:\n",
    "        cat = cat[np.random.choice(len(cat), int(random_fraction * len(cat)), replace=False)]\n",
    "    w = np.ones(len(cat)) if not weights else cat['WEIGHT_NOZ'] * cat['WEIGHT_SYSTOT']\n",
    "    return cat, w"
   ],
   "outputs": [],
   "execution_count": 80
  },
  {
   "metadata": {
    "ExecuteTime": {
     "end_time": "2025-08-10T23:54:35.467223Z",
     "start_time": "2025-08-10T23:54:35.462151Z"
    }
   },
   "cell_type": "code",
   "source": [
    "def preprocess_catalog_galactic(data):\n",
    "    z = data['Z']\n",
    "    ra = data['RA']\n",
    "    dec = data['DEC']\n",
    "    D = cosmo.comoving_distance(z).value\n",
    "    valid = (D > 0) & np.isfinite(D)\n",
    "\n",
    "    ra_valid = ra[valid]\n",
    "    dec_valid = dec[valid]\n",
    "    D_valid = D[valid]\n",
    "\n",
    "    l, b = fast_icrs_to_galactic(ra_valid, dec_valid)\n",
    "\n",
    "    return l, b, D_valid, data[valid]"
   ],
   "id": "9e63216402a53322",
   "outputs": [],
   "execution_count": 81
  },
  {
   "metadata": {
    "ExecuteTime": {
     "end_time": "2025-08-10T23:54:35.495964Z",
     "start_time": "2025-08-10T23:54:35.490366Z"
    }
   },
   "cell_type": "code",
   "source": [
    "import pandas as pd\n",
    "\n",
    "def compute_angle_cosine(l1, b1, l2, b2):\n",
    "    \"\"\"\n",
    "    Compute cosine of angle θ between two directions (in degrees) in Galactic coordinates.\n",
    "    \"\"\"\n",
    "    l1_rad, b1_rad = np.radians(l1), np.radians(b1)\n",
    "    l2_rad, b2_rad = np.radians(l2), np.radians(b2)\n",
    "\n",
    "    cos_theta = (\n",
    "        np.cos(b1_rad) * np.cos(l1_rad) * np.cos(b2_rad) * np.cos(l2_rad) +\n",
    "        np.cos(b1_rad) * np.sin(l1_rad) * np.cos(b2_rad) * np.sin(l2_rad) +\n",
    "        np.sin(b1_rad) * np.sin(b2_rad)\n",
    "    )\n",
    "    return cos_theta\n",
    "\n",
    "def build_galaxy_pair_catalog(data, weights, r_par_max=5, r_perp_min=4, r_perp_max=6):\n",
    "    \"\"\"\n",
    "    Build galaxy pair catalog based on parallel and perpendicular distance criteria.\n",
    "    Returns a list of dictionaries.\n",
    "    \"\"\"\n",
    "    l, b, D, data_filtered = preprocess_catalog_galactic(data)\n",
    "    weights = weights[:len(data_filtered)]\n",
    "    z = data_filtered['Z']\n",
    "\n",
    "    pairs = []\n",
    "\n",
    "    for i in tqdm(range(len(data_filtered)), desc=\"Building Pair Catalog\"):\n",
    "        for j in range(i + 1, len(data_filtered)):\n",
    "            Dc1, Dc2 = D[i], D[j]\n",
    "            r_par = np.abs(Dc2 - Dc1)  # cos(θ) ≈ 1\n",
    "\n",
    "            if r_par > r_par_max:\n",
    "                continue\n",
    "\n",
    "            cos_theta = compute_angle_cosine(l[i], b[i], l[j], b[j])\n",
    "            theta = np.arccos(np.clip(cos_theta, -1, 1))\n",
    "\n",
    "            r_perp = (Dc2 + Dc1) * theta  # sin(θ) ≈ θ\n",
    "\n",
    "            if r_perp_min <= r_perp <= r_perp_max:\n",
    "                Dmid = cosmo.comoving_distance((z[i] + z[j]) / 2).value\n",
    "                pairs.append({\n",
    "                    'l1': l[i], 'b1': b[i], 'z1': z[i], 'w1': weights[i], 'Dc1': Dc1, 'LRG_ID1': data_filtered[i]['LRG_ID'],\n",
    "                    'l2': l[j], 'b2': b[j], 'z2': z[j], 'w2': weights[j], 'Dc2': Dc2, 'LRG_ID2': data_filtered[j]['LRG_ID'],\n",
    "                    'Dmid': Dmid\n",
    "                })\n",
    "\n",
    "    pairs = pd.DataFrame(pairs)\n",
    "    pairs.to_csv(\"data/galaxy_pairs_catalog.csv\", index=False)\n",
    "    return pairs"
   ],
   "id": "3c4c76300e148570",
   "outputs": [],
   "execution_count": 82
  },
  {
   "cell_type": "code",
   "id": "3c4d6830-3e98-4a81-b878-7d89a4e85f43",
   "metadata": {
    "ExecuteTime": {
     "end_time": "2025-08-11T00:56:44.046167Z",
     "start_time": "2025-08-10T23:54:35.521911Z"
    }
   },
   "source": [
    "# --- Run all ---\n",
    "data_real, w_real = load_catalog(real_file, weights=True)\n",
    "data_rand, w_rand = load_catalog(rand_file, random_fraction=0.10)\n",
    "\n",
    "# Build galaxy pair catalog\n",
    "pair_catalog = build_galaxy_pair_catalog(data_real, w_real)\n",
    "print(f\"Total valid pairs: {len(pair_catalog)}\")\n",
    "\n",
    "# Jackknife real galaxies\n",
    "# kappa_real, sigma_real = jackknife_stack_healpix(data_real, w_real, data_rand, nside=10)\n",
    "# sn_real = np.zeros_like(kappa_real)\n",
    "# valid = sigma_real > 0\n",
    "# sn_real[valid] = kappa_real[valid] / sigma_real[valid]\n",
    "# kappa_rand, sigma_rand, sn_rand = stack_kappa(data_rand, w_rand, \"Random\")\n",
    "# kappa_sub = kappa_real - kappa_rand\n",
    "# kappa_smooth = gaussian_filter(kappa_sub, sigma=2)"
   ],
   "outputs": [
    {
     "data": {
      "text/plain": [
       "Building Pair Catalog:   0%|          | 0/107500 [00:00<?, ?it/s]"
      ],
      "application/vnd.jupyter.widget-view+json": {
       "version_major": 2,
       "version_minor": 0,
       "model_id": "64fbdd8773b74f72b19dfedb8edeca80"
      }
     },
     "metadata": {},
     "output_type": "display_data"
    },
    {
     "name": "stdout",
     "output_type": "stream",
     "text": [
      "Total valid pairs: 1272\n"
     ]
    }
   ],
   "execution_count": 83
  }
 ],
 "metadata": {
  "kernelspec": {
   "display_name": "Python 3 (ipykernel)",
   "language": "python",
   "name": "python3"
  },
  "language_info": {
   "codemirror_mode": {
    "name": "ipython",
    "version": 3
   },
   "file_extension": ".py",
   "mimetype": "text/x-python",
   "name": "python",
   "nbconvert_exporter": "python",
   "pygments_lexer": "ipython3",
   "version": "3.11.13"
  }
 },
 "nbformat": 4,
 "nbformat_minor": 5
}
